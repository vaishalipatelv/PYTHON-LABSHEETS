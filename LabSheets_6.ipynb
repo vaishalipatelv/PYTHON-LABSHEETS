{
  "nbformat": 4,
  "nbformat_minor": 0,
  "metadata": {
    "colab": {
      "name": "LabSheets_6.ipynb",
      "provenance": []
    },
    "kernelspec": {
      "name": "python3",
      "display_name": "Python 3"
    },
    "language_info": {
      "name": "python"
    }
  },
  "cells": [
    {
      "cell_type": "markdown",
      "source": [
        "FUNCTIONS"
      ],
      "metadata": {
        "id": "BNwZ2CEsVEKI"
      }
    },
    {
      "cell_type": "code",
      "source": [
        "#Write a program to create a function having name,display.print \"python programming\" inside the function\n",
        "def display():\n",
        "  print(\"Welcome to the python python programming\")\n",
        "display()"
      ],
      "metadata": {
        "colab": {
          "base_uri": "https://localhost:8080/"
        },
        "id": "WKQJb86fVOfl",
        "outputId": "8b57a149-8123-4149-b803-5b09ba59a27c"
      },
      "execution_count": null,
      "outputs": [
        {
          "output_type": "stream",
          "name": "stdout",
          "text": [
            "Welcome to the python python programming\n"
          ]
        }
      ]
    },
    {
      "cell_type": "code",
      "source": [
        "#Write a program to prompt the name of a user and print the welcome message  Dear Name_of_The user from the function\n",
        "def print_msg():\n",
        "  str1=input(\"Please Enter Your name:\")\n",
        "  print(\"Dear \",str1,\"Welcome to the python programming\")\n",
        "print_msg()\n",
        "  "
      ],
      "metadata": {
        "id": "VZTQYQwjWdKo",
        "colab": {
          "base_uri": "https://localhost:8080/"
        },
        "outputId": "28e2e1c1-b789-4d9d-b03e-a7180a45046d"
      },
      "execution_count": null,
      "outputs": [
        {
          "output_type": "stream",
          "name": "stdout",
          "text": [
            "Please Enter Your name:SANKETH\n",
            "Dear  SANKETH Welcome to the python programming\n"
          ]
        }
      ]
    },
    {
      "cell_type": "code",
      "source": [
        "#Write a program to find the max of two numbers\n",
        "def printMax(num1,num2):\n",
        "  print(\"num1=\",num1)\n",
        "  print(\"num2=\",num2)\n",
        "  if num1>num2:\n",
        "    print(\"The Number \",num1,\"is greater than \",num2)\n",
        "  elif num1<num2:\n",
        "    print(\"The Number \",num2,\"is greater than\",num1)\n",
        "  else:\n",
        "    print(\"Both Numbers\",num1,\"and\",num2,\"are equal\")\n",
        "printMax(10,80)\n"
      ],
      "metadata": {
        "colab": {
          "base_uri": "https://localhost:8080/"
        },
        "id": "YRxhUNS3XyKa",
        "outputId": "4d8dc32f-2d19-400e-aa79-0a0253809e58"
      },
      "execution_count": null,
      "outputs": [
        {
          "output_type": "stream",
          "name": "stdout",
          "text": [
            "num1= 10\n",
            "num2= 80\n",
            "The Number  80 is greater than 10\n"
          ]
        }
      ]
    },
    {
      "cell_type": "code",
      "source": [
        "def calc_factorial(num):\n",
        "  fact=1\n",
        "  print(\"Entered Number is:\",num)\n",
        "  for i in range(1,num+1):\n",
        "    fact=fact*i\n",
        "  print(\"factorial of number \",num,\"is =\",fact)\n",
        "n=int(input(\"Enter a number\"))\n",
        "calc_factorial(n)"
      ],
      "metadata": {
        "colab": {
          "base_uri": "https://localhost:8080/"
        },
        "id": "81Wyiajpb-oW",
        "outputId": "0f5a3632-a9db-4f04-d5de-ba63df979147"
      },
      "execution_count": null,
      "outputs": [
        {
          "output_type": "stream",
          "name": "stdout",
          "text": [
            "Enter a number2\n",
            "Entered Number is: 2\n",
            "factorial of number  2 is = 2\n"
          ]
        }
      ]
    },
    {
      "cell_type": "code",
      "source": [
        ""
      ],
      "metadata": {
        "id": "4gvJ1vNQcoC4"
      },
      "execution_count": null,
      "outputs": []
    }
  ]
}