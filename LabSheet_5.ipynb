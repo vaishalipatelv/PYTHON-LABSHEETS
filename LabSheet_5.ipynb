{
  "nbformat": 4,
  "nbformat_minor": 0,
  "metadata": {
    "colab": {
      "name": "LabSheet_5.ipynb",
      "provenance": [],
      "collapsed_sections": []
    },
    "kernelspec": {
      "name": "python3",
      "display_name": "Python 3"
    },
    "language_info": {
      "name": "python"
    }
  },
  "cells": [
    {
      "cell_type": "markdown",
      "source": [
        " List"
      ],
      "metadata": {
        "id": "fIoQZo6setrb"
      }
    },
    {
      "cell_type": "code",
      "source": [
        "#List Syntax\n",
        "L1=list()\n"
      ],
      "metadata": {
        "id": "inAEXDjze2PS"
      },
      "execution_count": null,
      "outputs": []
    },
    {
      "cell_type": "code",
      "source": [
        "#Write a program to display the set of values\n",
        "L2=list([10,20,30])\n",
        "L2\n"
      ],
      "metadata": {
        "id": "N7oJ0KS3fOMI"
      },
      "execution_count": null,
      "outputs": []
    },
    {
      "cell_type": "code",
      "source": [
        "#Write a to display the list of values\n",
        "L3=list([\"Apple\",\"Banana\",\"Grapes\"])\n",
        "L3\n"
      ],
      "metadata": {
        "colab": {
          "base_uri": "https://localhost:8080/"
        },
        "id": "xytDORAGfbsU",
        "outputId": "271ecbc4-6beb-469e-a52c-03d6041e61e2"
      },
      "execution_count": null,
      "outputs": [
        {
          "output_type": "execute_result",
          "data": {
            "text/plain": [
              "['Apple', 'Banana', 'Grapes']"
            ]
          },
          "metadata": {},
          "execution_count": 2
        }
      ]
    },
    {
      "cell_type": "code",
      "source": [
        "#Write a program to display list using a range function\n",
        "L4=list(range(0,6))\n",
        "L4"
      ],
      "metadata": {
        "colab": {
          "base_uri": "https://localhost:8080/"
        },
        "id": "osOR205hftot",
        "outputId": "1fc58700-c597-44e2-c765-1c4045ef50b1"
      },
      "execution_count": null,
      "outputs": [
        {
          "output_type": "execute_result",
          "data": {
            "text/plain": [
              "[0, 1, 2, 3, 4, 5]"
            ]
          },
          "metadata": {},
          "execution_count": 3
        }
      ]
    },
    {
      "cell_type": "code",
      "source": [
        "#Write a to display the list of values\n",
        "L33=list([1.1,2.1,3.1,4.1])\n",
        "print(L33)\n"
      ],
      "metadata": {
        "colab": {
          "base_uri": "https://localhost:8080/"
        },
        "id": "yufBopjqf9kz",
        "outputId": "72c258cd-1b61-40a2-ff94-3b2a380e140a"
      },
      "execution_count": null,
      "outputs": [
        {
          "output_type": "stream",
          "name": "stdout",
          "text": [
            "[1.1, 2.1, 3.1, 4.1]\n"
          ]
        }
      ]
    },
    {
      "cell_type": "code",
      "source": [
        "#Write a display to print the the strings seperately\n",
        "L5=list(\"XYZ\")\n",
        "print(L5)"
      ],
      "metadata": {
        "colab": {
          "base_uri": "https://localhost:8080/"
        },
        "id": "wExd5agfgc4x",
        "outputId": "0176856d-652d-4d49-f75e-2a2165558640"
      },
      "execution_count": null,
      "outputs": [
        {
          "output_type": "stream",
          "name": "stdout",
          "text": [
            "['X', 'Y', 'Z']\n"
          ]
        }
      ]
    },
    {
      "cell_type": "code",
      "source": [
        "L6=[10,20,30]\n",
        "L6"
      ],
      "metadata": {
        "colab": {
          "base_uri": "https://localhost:8080/"
        },
        "id": "GaRjpIadGFYC",
        "outputId": "5fab86db-9ee8-4f84-f3c1-40c673ff0677"
      },
      "execution_count": null,
      "outputs": [
        {
          "output_type": "execute_result",
          "data": {
            "text/plain": [
              "[10, 20, 30]"
            ]
          },
          "metadata": {},
          "execution_count": 1
        }
      ]
    },
    {
      "cell_type": "code",
      "source": [
        "L7=[\"Apple\",\"Banana\",\"Grapes\"]\n",
        "L8=[12.9,13.9,14.9]\n",
        "L9=([\"Sanjay\",20.22,1,\"Male\"])\n",
        "print(L7)\n",
        "print(L8)\n",
        "print(L9)"
      ],
      "metadata": {
        "colab": {
          "base_uri": "https://localhost:8080/"
        },
        "id": "ms-Q-Jg4GhHS",
        "outputId": "84beed35-4958-47fb-8424-fcde202c9e22"
      },
      "execution_count": null,
      "outputs": [
        {
          "output_type": "stream",
          "name": "stdout",
          "text": [
            "['Apple', 'Banana', 'Grapes']\n",
            "[12.9, 13.9, 14.9]\n",
            "['Sanjay', 20.22, 1, 'Male']\n"
          ]
        }
      ]
    },
    {
      "cell_type": "code",
      "source": [
        "#Write aprogram to print thr particular value of List\n",
        "L1=([10,20,30,40])\n",
        "print(L1[0])\n",
        "print(L1[3])"
      ],
      "metadata": {
        "colab": {
          "base_uri": "https://localhost:8080/"
        },
        "id": "bCy3SmEqG8UB",
        "outputId": "57bdf718-71b6-4cfe-eedc-3b3470825293"
      },
      "execution_count": null,
      "outputs": [
        {
          "output_type": "stream",
          "name": "stdout",
          "text": [
            "10\n",
            "40\n"
          ]
        }
      ]
    },
    {
      "cell_type": "code",
      "source": [
        "#Write aprogram to print thr particular value of List\n",
        "L1=([10,20,30,40])\n",
        "print(L1[8])"
      ],
      "metadata": {
        "colab": {
          "base_uri": "https://localhost:8080/",
          "height": 200
        },
        "id": "pbDeP5RpHP_G",
        "outputId": "b50d9dad-6a5e-4b02-9d46-32413c941ee1"
      },
      "execution_count": null,
      "outputs": [
        {
          "output_type": "error",
          "ename": "IndexError",
          "evalue": "ignored",
          "traceback": [
            "\u001b[0;31m---------------------------------------------------------------------------\u001b[0m",
            "\u001b[0;31mIndexError\u001b[0m                                Traceback (most recent call last)",
            "\u001b[0;32m<ipython-input-6-d8c4dd8087fa>\u001b[0m in \u001b[0;36m<module>\u001b[0;34m()\u001b[0m\n\u001b[1;32m      1\u001b[0m \u001b[0;31m#Write aprogram to print thr particular value of List\u001b[0m\u001b[0;34m\u001b[0m\u001b[0;34m\u001b[0m\u001b[0;34m\u001b[0m\u001b[0m\n\u001b[1;32m      2\u001b[0m \u001b[0mL1\u001b[0m\u001b[0;34m=\u001b[0m\u001b[0;34m(\u001b[0m\u001b[0;34m[\u001b[0m\u001b[0;36m10\u001b[0m\u001b[0;34m,\u001b[0m\u001b[0;36m20\u001b[0m\u001b[0;34m,\u001b[0m\u001b[0;36m30\u001b[0m\u001b[0;34m,\u001b[0m\u001b[0;36m40\u001b[0m\u001b[0;34m]\u001b[0m\u001b[0;34m)\u001b[0m\u001b[0;34m\u001b[0m\u001b[0;34m\u001b[0m\u001b[0m\n\u001b[0;32m----> 3\u001b[0;31m \u001b[0mprint\u001b[0m\u001b[0;34m(\u001b[0m\u001b[0mL1\u001b[0m\u001b[0;34m[\u001b[0m\u001b[0;36m8\u001b[0m\u001b[0;34m]\u001b[0m\u001b[0;34m)\u001b[0m\u001b[0;34m\u001b[0m\u001b[0;34m\u001b[0m\u001b[0m\n\u001b[0m",
            "\u001b[0;31mIndexError\u001b[0m: list index out of range"
          ]
        }
      ]
    },
    {
      "cell_type": "code",
      "source": [
        "#Write aprogram to print thr particular value of List\n",
        "List1=[10,20,30,40,50,60]\n",
        "print(List1[-1])\n",
        "print(List1[-3])\n",
        "\n"
      ],
      "metadata": {
        "colab": {
          "base_uri": "https://localhost:8080/"
        },
        "id": "w5-dI7ryHXFr",
        "outputId": "c1e3b1a6-b000-4122-f7dc-b8a71f3ba364"
      },
      "execution_count": null,
      "outputs": [
        {
          "output_type": "stream",
          "name": "stdout",
          "text": [
            "60\n",
            "40\n"
          ]
        }
      ]
    },
    {
      "cell_type": "code",
      "source": [
        "#Write a program to print a set of values at a time\n",
        "List1=[10,20,30,40,50,60]\n",
        "List1[1:4]\n"
      ],
      "metadata": {
        "colab": {
          "base_uri": "https://localhost:8080/"
        },
        "id": "cQsglhXFHvHC",
        "outputId": "9712dec6-3c77-4200-d498-3376d0fe7917"
      },
      "execution_count": null,
      "outputs": [
        {
          "output_type": "execute_result",
          "data": {
            "text/plain": [
              "[20, 30, 40]"
            ]
          },
          "metadata": {},
          "execution_count": 8
        }
      ]
    },
    {
      "cell_type": "code",
      "source": [
        "#Assign the list to a new set of list\n",
        "L1=[\"Hello\",1,\"Monkey\",2,\"Dog\",3,\"Donkey\"]\n",
        "New_L1=L1[0:6:2]\n",
        "print(New_L1)\n"
      ],
      "metadata": {
        "colab": {
          "base_uri": "https://localhost:8080/"
        },
        "id": "E5DRb60LH-Yf",
        "outputId": "80acaedc-63b2-4271-e8f0-760e581c5209"
      },
      "execution_count": null,
      "outputs": [
        {
          "output_type": "stream",
          "name": "stdout",
          "text": [
            "['Hello', 'Monkey', 'Dog']\n"
          ]
        }
      ]
    },
    {
      "cell_type": "code",
      "source": [
        "L2=[\"Python\",450,\"c\",300,\"c++\",670]\n",
        "L2[0:6:3]"
      ],
      "metadata": {
        "colab": {
          "base_uri": "https://localhost:8080/"
        },
        "id": "o36Ui6SkILWK",
        "outputId": "e5be5064-84b3-43a5-9dd7-620f08f6b8fe"
      },
      "execution_count": null,
      "outputs": [
        {
          "output_type": "execute_result",
          "data": {
            "text/plain": [
              "['Python', 300]"
            ]
          },
          "metadata": {},
          "execution_count": 10
        }
      ]
    },
    {
      "cell_type": "code",
      "source": [
        "L3=[1,2,3,4]\n",
        "L3[:2]\n"
      ],
      "metadata": {
        "colab": {
          "base_uri": "https://localhost:8080/"
        },
        "id": "7Casa0nIIVb1",
        "outputId": "bcbed1e9-442b-43e3-d4a3-44ae8b4fcca3"
      },
      "execution_count": null,
      "outputs": [
        {
          "output_type": "execute_result",
          "data": {
            "text/plain": [
              "[1, 2]"
            ]
          },
          "metadata": {},
          "execution_count": 11
        }
      ]
    },
    {
      "cell_type": "code",
      "source": [
        "L4=[1,2,3,4,5,6,7,8,9]\n",
        "L4[::-1]"
      ],
      "metadata": {
        "colab": {
          "base_uri": "https://localhost:8080/"
        },
        "id": "W4-WMOnmIbc0",
        "outputId": "d9fe0430-5ad0-4f10-d120-d0dea2312b79"
      },
      "execution_count": null,
      "outputs": [
        {
          "output_type": "execute_result",
          "data": {
            "text/plain": [
              "[9, 8, 7, 6, 5, 4, 3, 2, 1]"
            ]
          },
          "metadata": {},
          "execution_count": 12
        }
      ]
    },
    {
      "cell_type": "code",
      "source": [
        "L4=[1,2,3,4,5,6,7,8,9]\n",
        "L4[::-3]"
      ],
      "metadata": {
        "colab": {
          "base_uri": "https://localhost:8080/"
        },
        "id": "9aclRJlXIeUH",
        "outputId": "bf217a4b-9568-429d-9bcd-46ca6b410266"
      },
      "execution_count": null,
      "outputs": [
        {
          "output_type": "execute_result",
          "data": {
            "text/plain": [
              "[9, 6, 3]"
            ]
          },
          "metadata": {},
          "execution_count": 13
        }
      ]
    },
    {
      "cell_type": "code",
      "source": [
        "#Length Function\n",
        "Fun_L1=[\"Red\",\"Orange\",\"Pink\"]\n",
        "len(Fun_L1)"
      ],
      "metadata": {
        "colab": {
          "base_uri": "https://localhost:8080/"
        },
        "id": "Z6LjSIMhIhnt",
        "outputId": "95f7162b-0e45-4963-ae84-48b8d374db6b"
      },
      "execution_count": null,
      "outputs": [
        {
          "output_type": "execute_result",
          "data": {
            "text/plain": [
              "3"
            ]
          },
          "metadata": {},
          "execution_count": 14
        }
      ]
    },
    {
      "cell_type": "code",
      "source": [
        "#Write a program to find the min and max positions from the list\n",
        "Fun_L2=[10,20,30,40,50]\n",
        "len(Fun_L2)\n",
        "min(Fun_L2)\n",
        "max(Fun_L2)\n",
        "\n"
      ],
      "metadata": {
        "colab": {
          "base_uri": "https://localhost:8080/"
        },
        "id": "SQdXOCoiInkJ",
        "outputId": "5c9f3b33-a395-4e28-91b7-a587fa869ba8"
      },
      "execution_count": null,
      "outputs": [
        {
          "output_type": "execute_result",
          "data": {
            "text/plain": [
              "50"
            ]
          },
          "metadata": {},
          "execution_count": 15
        }
      ]
    },
    {
      "cell_type": "code",
      "source": [
        "#Import Random Function\n",
        "Fun_L2=[10,20,30,40,50]\n",
        "import random\n",
        "random.shuffle(Fun_L2)\n",
        "print(Fun_L2)\n",
        "sum(Fun_L2)\n"
      ],
      "metadata": {
        "colab": {
          "base_uri": "https://localhost:8080/"
        },
        "id": "rZlv3-q2JRqH",
        "outputId": "3d2086f2-f450-4e4f-eda8-2b74fdd67b2a"
      },
      "execution_count": null,
      "outputs": [
        {
          "output_type": "stream",
          "name": "stdout",
          "text": [
            "[50, 30, 20, 10, 40]\n"
          ]
        },
        {
          "output_type": "execute_result",
          "data": {
            "text/plain": [
              "150"
            ]
          },
          "metadata": {},
          "execution_count": 18
        }
      ]
    },
    {
      "cell_type": "markdown",
      "source": [
        "ARTHIMETIC OPERATIONS ON LIST"
      ],
      "metadata": {
        "id": "FIYpEBhxJkJc"
      }
    },
    {
      "cell_type": "code",
      "source": [
        "# '+' OPERATOR\n",
        "a=[1,2,3]\n",
        "print(a)\n",
        "b=[4,5,6]\n",
        "print(b)\n",
        "a+b"
      ],
      "metadata": {
        "colab": {
          "base_uri": "https://localhost:8080/"
        },
        "id": "6EIi9e6tJbxx",
        "outputId": "3135ec6d-5b3b-45cb-eaf3-80ede975d05f"
      },
      "execution_count": null,
      "outputs": [
        {
          "output_type": "stream",
          "name": "stdout",
          "text": [
            "[1, 2, 3]\n",
            "[4, 5, 6]\n"
          ]
        },
        {
          "output_type": "execute_result",
          "data": {
            "text/plain": [
              "[1, 2, 3, 4, 5, 6]"
            ]
          },
          "metadata": {},
          "execution_count": 19
        }
      ]
    },
    {
      "cell_type": "code",
      "source": [
        "# '*' OPERATOR\n",
        "L1=[10,20,30]\n",
        "print(L1)\n",
        "L2=2*L1\n",
        "print(L2)\n",
        "L3=4*L1\n",
        "L3\n"
      ],
      "metadata": {
        "colab": {
          "base_uri": "https://localhost:8080/"
        },
        "id": "M6B8RMISJ2G6",
        "outputId": "8fd52286-542e-4486-eb2e-996b32cfb224"
      },
      "execution_count": null,
      "outputs": [
        {
          "output_type": "stream",
          "name": "stdout",
          "text": [
            "[10, 20, 30]\n",
            "[10, 20, 30, 10, 20, 30]\n"
          ]
        },
        {
          "output_type": "execute_result",
          "data": {
            "text/plain": [
              "[10, 20, 30, 10, 20, 30, 10, 20, 30, 10, 20, 30]"
            ]
          },
          "metadata": {},
          "execution_count": 23
        }
      ]
    },
    {
      "cell_type": "code",
      "source": [
        "# 'in' OPERATOR\n",
        "L3=[10, 20, 30, 10, 20, 30, 10, 20, 30, 10, 20, 30]\n",
        "print(40 in L3)\n",
        "20 in L3\n"
      ],
      "metadata": {
        "colab": {
          "base_uri": "https://localhost:8080/"
        },
        "id": "09EzE-YlKTOf",
        "outputId": "aec0fa02-d135-472d-d0bb-8e22c50bf456"
      },
      "execution_count": null,
      "outputs": [
        {
          "output_type": "stream",
          "name": "stdout",
          "text": [
            "False\n"
          ]
        },
        {
          "output_type": "execute_result",
          "data": {
            "text/plain": [
              "True"
            ]
          },
          "metadata": {},
          "execution_count": 26
        }
      ]
    },
    {
      "cell_type": "code",
      "source": [
        "# '=' OPEERATOR\n",
        "A=['A','B','C']\n",
        "B=['A','B','C']\n",
        "A is B\n"
      ],
      "metadata": {
        "colab": {
          "base_uri": "https://localhost:8080/"
        },
        "id": "b8qS9_mCKuR-",
        "outputId": "af2b5a2c-674d-469b-9504-8b901c08e212"
      },
      "execution_count": null,
      "outputs": [
        {
          "output_type": "execute_result",
          "data": {
            "text/plain": [
              "False"
            ]
          },
          "metadata": {},
          "execution_count": 27
        }
      ]
    },
    {
      "cell_type": "code",
      "source": [
        "A=\"Microsoft\"\n",
        "B=\"Microsoft\"\n",
        "A is B"
      ],
      "metadata": {
        "colab": {
          "base_uri": "https://localhost:8080/"
        },
        "id": "gK7pVHZkK6RF",
        "outputId": "b492a78a-50ba-4cf3-af16-6d3eb4dc3bd4"
      },
      "execution_count": null,
      "outputs": [
        {
          "output_type": "execute_result",
          "data": {
            "text/plain": [
              "True"
            ]
          },
          "metadata": {},
          "execution_count": 28
        }
      ]
    },
    {
      "cell_type": "code",
      "source": [
        "# DELETE OPERATION\n",
        "L1=[10,20,30,40,50,60,70,80,90]\n",
        "del(L1[3])\n",
        "L1"
      ],
      "metadata": {
        "colab": {
          "base_uri": "https://localhost:8080/"
        },
        "id": "_YiDLgu6KAOj",
        "outputId": "5252834b-638c-4ff2-8ffb-ea4beeb094cd"
      },
      "execution_count": null,
      "outputs": [
        {
          "output_type": "execute_result",
          "data": {
            "text/plain": [
              "[10, 20, 30, 50, 60, 70, 80, 90]"
            ]
          },
          "metadata": {},
          "execution_count": 30
        }
      ]
    },
    {
      "cell_type": "code",
      "source": [
        "L1=[10,20,30,40,50,60,70,80,90]\n",
        "del(L1[-2])\n",
        "print(L1)\n"
      ],
      "metadata": {
        "colab": {
          "base_uri": "https://localhost:8080/"
        },
        "id": "g8MUm4LFLGOc",
        "outputId": "6ec65410-cc85-4a5c-9af8-09534d32d355"
      },
      "execution_count": null,
      "outputs": [
        {
          "output_type": "stream",
          "name": "stdout",
          "text": [
            "[10, 20, 30, 40, 50, 60, 70, 90]\n"
          ]
        }
      ]
    },
    {
      "cell_type": "code",
      "source": [
        "# 'append ' OPERATION\n",
        "L1=['x','y','z']\n",
        "L1\n",
        "L1.append('A')\n",
        "L1"
      ],
      "metadata": {
        "colab": {
          "base_uri": "https://localhost:8080/"
        },
        "id": "GzPSr0AyLJLq",
        "outputId": "0a2d6c8c-7043-404a-f9a0-0e9ef535b687"
      },
      "execution_count": null,
      "outputs": [
        {
          "output_type": "execute_result",
          "data": {
            "text/plain": [
              "['x', 'y', 'z', 'A']"
            ]
          },
          "metadata": {},
          "execution_count": 32
        }
      ]
    },
    {
      "cell_type": "code",
      "source": [
        "# 'CLEAR\" OPERATION\n",
        "L2=[\"Red\",\"Blue\",\"Pink\"]\n",
        "print(L2)\n",
        "L2.clear()\n",
        "L2\n"
      ],
      "metadata": {
        "colab": {
          "base_uri": "https://localhost:8080/"
        },
        "id": "NNlsZRfJLU6n",
        "outputId": "c3f6fc8b-8ee9-4f6a-82d3-e50993cad0c7"
      },
      "execution_count": null,
      "outputs": [
        {
          "output_type": "stream",
          "name": "stdout",
          "text": [
            "['Red', 'Blue', 'Pink']\n"
          ]
        },
        {
          "output_type": "execute_result",
          "data": {
            "text/plain": [
              "[]"
            ]
          },
          "metadata": {},
          "execution_count": 35
        }
      ]
    },
    {
      "cell_type": "code",
      "source": [
        "# 'COUNT' OPERATION\n",
        "L2=['A','B','A','B']\n",
        "print(L2)\n",
        "L2.count('A')\n"
      ],
      "metadata": {
        "colab": {
          "base_uri": "https://localhost:8080/"
        },
        "id": "HzCCs0CjLkFj",
        "outputId": "bd6afaa1-90b6-4b0a-9789-feeab78d1af0"
      },
      "execution_count": null,
      "outputs": [
        {
          "output_type": "stream",
          "name": "stdout",
          "text": [
            "['A', 'B', 'A', 'B']\n"
          ]
        },
        {
          "output_type": "execute_result",
          "data": {
            "text/plain": [
              "2"
            ]
          },
          "metadata": {},
          "execution_count": 36
        }
      ]
    },
    {
      "cell_type": "code",
      "source": [
        "# 'COPY' OPERATION\n",
        "L4=[\"Red\",\"Blue\",\"Pink\"]\n",
        "print(L4)\n",
        "L5=L4.copy()\n",
        "L5\n"
      ],
      "metadata": {
        "colab": {
          "base_uri": "https://localhost:8080/"
        },
        "id": "-VQKue-hLrhq",
        "outputId": "fdf6d296-d053-4469-c0cd-98f201faed5d"
      },
      "execution_count": null,
      "outputs": [
        {
          "output_type": "stream",
          "name": "stdout",
          "text": [
            "['Red', 'Blue', 'Pink']\n"
          ]
        },
        {
          "output_type": "execute_result",
          "data": {
            "text/plain": [
              "['Red', 'Blue', 'Pink']"
            ]
          },
          "metadata": {},
          "execution_count": 37
        }
      ]
    },
    {
      "cell_type": "code",
      "source": [
        "# 'EXTEND' OPERATION\n",
        "L5=[1,2,3]\n",
        "L6=[4,5,6]\n",
        "L5\n",
        "L6\n",
        "L5.extend(L6)\n",
        "print(L5)"
      ],
      "metadata": {
        "colab": {
          "base_uri": "https://localhost:8080/"
        },
        "id": "LdXmemMZL0uN",
        "outputId": "22d542b1-5288-4e99-f0dc-87cfd9a72d37"
      },
      "execution_count": null,
      "outputs": [
        {
          "output_type": "stream",
          "name": "stdout",
          "text": [
            "[1, 2, 3, 4, 5, 6]\n"
          ]
        }
      ]
    },
    {
      "cell_type": "code",
      "source": [
        "# 'INDEX' OPERATION\n",
        "L6=['A','B','C','D','A']\n",
        "L6\n",
        "L6.index('B')\n"
      ],
      "metadata": {
        "colab": {
          "base_uri": "https://localhost:8080/"
        },
        "id": "3yA5NQAeL8fH",
        "outputId": "7e2b0952-1263-4333-82ac-8a873ebb1e81"
      },
      "execution_count": null,
      "outputs": [
        {
          "output_type": "execute_result",
          "data": {
            "text/plain": [
              "1"
            ]
          },
          "metadata": {},
          "execution_count": 39
        }
      ]
    },
    {
      "cell_type": "code",
      "source": [
        "# 'INSERT & POP' OPERATION\n",
        "L7=[10,20,30,40,50]\n",
        "L7\n",
        "L7.insert(4,60)\n",
        "print(L7)\n",
        "L7.pop()\n",
        "L7\n",
        "\n"
      ],
      "metadata": {
        "colab": {
          "base_uri": "https://localhost:8080/"
        },
        "id": "s0tUBsH2MHTw",
        "outputId": "ece6f699-087e-4dfa-c47c-4ecba713f2c5"
      },
      "execution_count": null,
      "outputs": [
        {
          "output_type": "stream",
          "name": "stdout",
          "text": [
            "[10, 20, 30, 40, 60, 50]\n"
          ]
        },
        {
          "output_type": "execute_result",
          "data": {
            "text/plain": [
              "[10, 20, 30, 40, 60]"
            ]
          },
          "metadata": {},
          "execution_count": 40
        }
      ]
    },
    {
      "cell_type": "code",
      "source": [
        "# 'REMOVE & REVERSE ' OPERATION\n",
        "L9=['A','B','C','D','E']\n",
        "print(L9)\n",
        "L9.remove('B')\n",
        "print(L9)\n",
        "L9.reverse()\n",
        "print(L9)\n"
      ],
      "metadata": {
        "colab": {
          "base_uri": "https://localhost:8080/"
        },
        "id": "apjSxd0IMRfG",
        "outputId": "17e9f0d3-9ddc-469e-c57d-c8d3cd17947b"
      },
      "execution_count": null,
      "outputs": [
        {
          "output_type": "stream",
          "name": "stdout",
          "text": [
            "['A', 'B', 'C', 'D', 'E']\n",
            "['A', 'C', 'D', 'E']\n",
            "['E', 'D', 'C', 'A']\n"
          ]
        }
      ]
    },
    {
      "cell_type": "code",
      "source": [
        "# 'tuple' Function\n",
        "tuple=(10,20,30,40)\n",
        "print(tuple)\n",
        "tuple[0]"
      ],
      "metadata": {
        "colab": {
          "base_uri": "https://localhost:8080/"
        },
        "id": "wydEt5tVNwaS",
        "outputId": "bc238dfb-fa0d-4f82-9a5d-c5cd3c8e87a5"
      },
      "execution_count": null,
      "outputs": [
        {
          "output_type": "stream",
          "name": "stdout",
          "text": [
            "(10, 20, 30, 40)\n"
          ]
        },
        {
          "output_type": "execute_result",
          "data": {
            "text/plain": [
              "10"
            ]
          },
          "metadata": {},
          "execution_count": 14
        }
      ]
    },
    {
      "cell_type": "code",
      "source": [
        "# Length operation in tuple\n",
        "tuple=(\"Apple\",\"Banana\",\"Grapes\")\n",
        "len(tuple)"
      ],
      "metadata": {
        "colab": {
          "base_uri": "https://localhost:8080/"
        },
        "id": "nxPrJq6eOWAv",
        "outputId": "ef1a1445-62f7-43ae-c477-355272fef465"
      },
      "execution_count": null,
      "outputs": [
        {
          "output_type": "execute_result",
          "data": {
            "text/plain": [
              "3"
            ]
          },
          "metadata": {},
          "execution_count": 2
        }
      ]
    },
    {
      "cell_type": "code",
      "source": [
        "# MAX,MIN,SUM and COUNT OPERTION IN TUPLE\n",
        "tuple1=(1,2,3,4,5,6)\n",
        "print(\"Max element in tuple is \",max(tuple1))\n",
        "print(\"Min element in tuple is \",min(tuple1))\n",
        "print(\"Sum element in tuple is \",sum(tuple1))\n",
        "print(\"Count element in tuple is \",tuple1.count(3))\n",
        "print(\"First occurance of value and returns its position is \",tuple1.index(2))\n"
      ],
      "metadata": {
        "colab": {
          "base_uri": "https://localhost:8080/"
        },
        "id": "GC39bFaLPCsY",
        "outputId": "c4ef29c2-b97c-4d15-a855-06e09abf3033"
      },
      "execution_count": null,
      "outputs": [
        {
          "output_type": "stream",
          "name": "stdout",
          "text": [
            "Max element in tuple is  6\n",
            "Min element in tuple is  1\n",
            "Sum element in tuple is  21\n",
            "Count element in tuple is  1\n",
            "First occurance of value and returns its position is  1\n"
          ]
        }
      ]
    },
    {
      "cell_type": "markdown",
      "source": [
        "DICTIONARIES"
      ],
      "metadata": {
        "id": "GFrpcLCUR1iW"
      }
    },
    {
      "cell_type": "code",
      "source": [
        "D1={}\n",
        "type(D1)"
      ],
      "metadata": {
        "colab": {
          "base_uri": "https://localhost:8080/"
        },
        "id": "QzcluqyxR78U",
        "outputId": "a484dea1-21ad-4f7e-c7ee-807f0e162ccd"
      },
      "execution_count": null,
      "outputs": [
        {
          "output_type": "execute_result",
          "data": {
            "text/plain": [
              "dict"
            ]
          },
          "metadata": {},
          "execution_count": 15
        }
      ]
    },
    {
      "cell_type": "code",
      "source": [
        "D2={\"amit\":\"123456789\",\"Amol\":\"987654321\"}\n",
        "D2"
      ],
      "metadata": {
        "colab": {
          "base_uri": "https://localhost:8080/"
        },
        "id": "I9KnKdcHSDP0",
        "outputId": "bde1e422-3369-4d75-f7fa-b616000231a7"
      },
      "execution_count": null,
      "outputs": [
        {
          "output_type": "execute_result",
          "data": {
            "text/plain": [
              "{'Amol': '987654321', 'amit': '123456789'}"
            ]
          },
          "metadata": {},
          "execution_count": 16
        }
      ]
    },
    {
      "cell_type": "code",
      "source": [
        "car={\"brand\":\"Ford\",\"model\":\"mustang\",\"year\":1999}\n",
        "print(car)\n",
        "x=car.keys()\n",
        "car[\"color\"]=\"White\"\n",
        "print(x)\n",
        "y=car.values()\n",
        "car['year']=2010\n",
        "print(y)"
      ],
      "metadata": {
        "colab": {
          "base_uri": "https://localhost:8080/"
        },
        "id": "SkZZuneESTJs",
        "outputId": "f691177d-ac9c-45e2-e1ee-43952db1625c"
      },
      "execution_count": null,
      "outputs": [
        {
          "output_type": "stream",
          "name": "stdout",
          "text": [
            "{'brand': 'Ford', 'model': 'mustang', 'year': 1999}\n",
            "dict_keys(['brand', 'model', 'year', 'color'])\n",
            "dict_values(['Ford', 'mustang', 2010, 'White'])\n"
          ]
        }
      ]
    },
    {
      "cell_type": "code",
      "source": [
        "q=car.clear()\n",
        "print(car)"
      ],
      "metadata": {
        "colab": {
          "base_uri": "https://localhost:8080/"
        },
        "id": "x-8rt2kcUorE",
        "outputId": "72d6ed72-e5c7-4af5-c574-382b53b5c239"
      },
      "execution_count": null,
      "outputs": [
        {
          "output_type": "stream",
          "name": "stdout",
          "text": [
            "{}\n"
          ]
        }
      ]
    },
    {
      "cell_type": "code",
      "source": [
        "q=car.get(\"Price\",10000)\n",
        "print(q)"
      ],
      "metadata": {
        "colab": {
          "base_uri": "https://localhost:8080/"
        },
        "id": "3JR1-7gsUyQk",
        "outputId": "acb9c34c-31cc-4a22-81a9-1771c85415a8"
      },
      "execution_count": null,
      "outputs": [
        {
          "output_type": "stream",
          "name": "stdout",
          "text": [
            "10000\n"
          ]
        }
      ]
    }
  ]
}