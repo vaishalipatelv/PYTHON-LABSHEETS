{
  "nbformat": 4,
  "nbformat_minor": 0,
  "metadata": {
    "colab": {
      "name": "LabSheet_4.ipynb",
      "provenance": [],
      "collapsed_sections": []
    },
    "kernelspec": {
      "name": "python3",
      "display_name": "Python 3"
    },
    "language_info": {
      "name": "python"
    }
  },
  "cells": [
    {
      "cell_type": "code",
      "source": [
        "#write a program to print the numbers from one to five using while loop\n",
        "a=0\n",
        "while a<=5:\n",
        "  print(\"count=\",a)\n",
        "  a=a+1"
      ],
      "metadata": {
        "colab": {
          "base_uri": "https://localhost:8080/"
        },
        "id": "OEMcF7yD4lzD",
        "outputId": "b2401a7e-2120-453a-cde4-945d120a2031"
      },
      "execution_count": null,
      "outputs": [
        {
          "output_type": "stream",
          "name": "stdout",
          "text": [
            "count= 0\n",
            "count= 1\n",
            "count= 2\n",
            "count= 3\n",
            "count= 4\n",
            "count= 5\n"
          ]
        }
      ]
    },
    {
      "cell_type": "code",
      "source": [
        "#Write a program to find the sum of first 10 consecutive numbers using While loop \n",
        "count=0\n",
        "sum=0\n",
        "while count<=10:\n",
        "  sum=sum+count\n",
        "  count=count+1\n",
        "print(\"Sum of the first 10 numbers is \",sum)"
      ],
      "metadata": {
        "colab": {
          "base_uri": "https://localhost:8080/"
        },
        "id": "oqMuep4J6aXz",
        "outputId": "f2fb99b8-76fb-41de-cdd4-4ce5c76e7c5c"
      },
      "execution_count": null,
      "outputs": [
        {
          "output_type": "stream",
          "name": "stdout",
          "text": [
            "Sum of the first 10 numbers is  55\n"
          ]
        }
      ]
    },
    {
      "cell_type": "code",
      "source": [
        "#Write a program to find the sum of the digits of a given number\n",
        "n=eval(input(\"Enter the number \"))\n",
        "x=n\n",
        "sum=0\n",
        "digit=0\n",
        "while(n>0):\n",
        "    rem=n%10\n",
        "    n=n//10\n",
        "    sum=sum+rem\n",
        "print(\"Sum of digits in the entered number is \",sum)\n"
      ],
      "metadata": {
        "colab": {
          "base_uri": "https://localhost:8080/"
        },
        "id": "u2leHo75zLeZ",
        "outputId": "a18e549c-5c23-4230-adf6-a8b173e09616"
      },
      "execution_count": null,
      "outputs": [
        {
          "output_type": "stream",
          "name": "stdout",
          "text": [
            "Enter the number 123456789\n",
            "Sum of digits in the entered number is  45\n"
          ]
        }
      ]
    },
    {
      "cell_type": "code",
      "source": [
        "#Write a program to print the reverse of the input number\n",
        "num=eval(input(\"Enter the number\"))\n",
        "x=num\n",
        "rev=0\n",
        "while num>0:\n",
        "  rem=num%10\n",
        "  num=num//10\n",
        "  rev=rev*10+rem\n",
        "print(\"The reverse of the number\",x,\"is\",rev)\n"
      ],
      "metadata": {
        "colab": {
          "base_uri": "https://localhost:8080/"
        },
        "id": "v--639RLzLza",
        "outputId": "76b8c112-fb5d-48c3-ae46-6749e4fc53b6"
      },
      "execution_count": null,
      "outputs": [
        {
          "output_type": "stream",
          "name": "stdout",
          "text": [
            "Enter the number123456\n",
            "The reverse of the number 123456 is 654321\n"
          ]
        }
      ]
    },
    {
      "cell_type": "code",
      "source": [
        "#Write a program, to find the factorial of a number using while loop condition\n",
        "num=int(input(\"Enter the number\"))\n",
        "fact=1\n",
        "ans=1\n",
        "while fact<=num:\n",
        "  ans=ans*fact\n",
        "  fact=fact+1\n",
        "print(\"Factorial of\",num,\"is\",ans)"
      ],
      "metadata": {
        "colab": {
          "base_uri": "https://localhost:8080/"
        },
        "id": "mluXau85zk3P",
        "outputId": "d8caed6c-c4ef-40cf-e15b-8aa8b73af6b3"
      },
      "execution_count": null,
      "outputs": [
        {
          "output_type": "stream",
          "name": "stdout",
          "text": [
            "Enter the number5\n",
            "Factorial of 5 is 120\n"
          ]
        }
      ]
    },
    {
      "cell_type": "code",
      "source": [
        "#Write a program to check whether the input number is amstrong number or not\n",
        "num=int(input(\"Enter the number\"))\n",
        "sum=0\n",
        "x=num\n",
        "while num>0:\n",
        "  d=num%10\n",
        "  num=num//10\n",
        "  sum=sum+(d*d*d)\n",
        "if(sum==x):\n",
        "  print(\"The number\",num,\"is an Amstrong Number\")\n",
        "else:\n",
        "  print(\"The number\",x,\"is not an Amstrong Number\")"
      ],
      "metadata": {
        "colab": {
          "base_uri": "https://localhost:8080/"
        },
        "id": "m4pmm5AIzzQe",
        "outputId": "e1cdafe2-f8cc-41ef-df5a-93b9fdee77f2"
      },
      "execution_count": null,
      "outputs": [
        {
          "output_type": "stream",
          "name": "stdout",
          "text": [
            "Enter the number123\n",
            "The number 123 is not an Amstrong Number\n"
          ]
        }
      ]
    },
    {
      "cell_type": "code",
      "source": [
        "#RANGE\n",
        "a=range(6)\n",
        "print(\"the range of 6 is \",a)\n",
        "b=range(5,0,-2)\n",
        "print(\"the range of 6 is \",b)\n",
        "c=range(-4,4,2)\n",
        "print(\"the range of 6 is \",c)\n",
        "d=range(9,-7,2)\n",
        "print(\"the range of 6 is \",d)\n",
        "e=range(0,6)\n",
        "print(\"the range of 6 is \",a)\n",
        "\n",
        "\n",
        "\n",
        "\n"
      ],
      "metadata": {
        "id": "A0Th4azX4Sfe",
        "colab": {
          "base_uri": "https://localhost:8080/"
        },
        "outputId": "44df0cb8-0071-492f-b6f3-e63470d31194"
      },
      "execution_count": null,
      "outputs": [
        {
          "output_type": "stream",
          "name": "stdout",
          "text": [
            "the range of 6 is  range(0, 6)\n",
            "the range of 6 is  range(5, 0, -2)\n",
            "the range of 6 is  range(-4, 4, 2)\n",
            "the range of 6 is  range(9, -7, 2)\n",
            "the range of 6 is  range(0, 6)\n"
          ]
        }
      ]
    },
    {
      "cell_type": "code",
      "source": [
        "#Write a program to print 1 to 5 using for loop\n",
        "for i in range(1,6):\n",
        "  print(i)\n",
        "print(\"End of the program\")"
      ],
      "metadata": {
        "id": "y0cfAgRm5Ij-",
        "colab": {
          "base_uri": "https://localhost:8080/"
        },
        "outputId": "03b0801a-68b1-4233-9949-ec35a42ee026"
      },
      "execution_count": null,
      "outputs": [
        {
          "output_type": "stream",
          "name": "stdout",
          "text": [
            "1\n",
            "2\n",
            "3\n",
            "4\n",
            "5\n",
            "End of the program\n"
          ]
        }
      ]
    },
    {
      "cell_type": "code",
      "source": [
        "#Write a program to print 1 to 10 in reverse order \n",
        "for i in range(10,0,-1):\n",
        "  print(i)\n",
        "print(\"End of the program\")"
      ],
      "metadata": {
        "id": "l0pTQc-G5n7l",
        "colab": {
          "base_uri": "https://localhost:8080/"
        },
        "outputId": "c6ad5127-9c1f-4381-8388-8bfc6ac7d0db"
      },
      "execution_count": null,
      "outputs": [
        {
          "output_type": "stream",
          "name": "stdout",
          "text": [
            "10\n",
            "9\n",
            "8\n",
            "7\n",
            "6\n",
            "5\n",
            "4\n",
            "3\n",
            "2\n",
            "1\n",
            "End of the program\n"
          ]
        }
      ]
    },
    {
      "cell_type": "code",
      "source": [
        "#Write a program to calculate the square of numbers from 1 to 6\n",
        "for i in range(1,6):\n",
        "  square=i*i\n",
        "print(\"Square of\",i,\"is\",square)"
      ],
      "metadata": {
        "id": "i5gDJucC6jaE",
        "colab": {
          "base_uri": "https://localhost:8080/"
        },
        "outputId": "6e023749-eed2-4c2c-b1de-53c136fa415e"
      },
      "execution_count": null,
      "outputs": [
        {
          "output_type": "stream",
          "name": "stdout",
          "text": [
            "Square of 5 is 25\n"
          ]
        }
      ]
    },
    {
      "cell_type": "code",
      "source": [
        "#Write a program to print the even numbers from 0 to 10\n",
        "sum=0\n",
        "print(\"Even numbers from 0 to 10 are as follows \")\n",
        "for i in range(0,11,1):\n",
        "  if i%2==0:\n",
        "    print(i)\n",
        "    sum=sum+i\n",
        "print(\"Sum of even numbers from 0 to 10 is\",sum)"
      ],
      "metadata": {
        "colab": {
          "base_uri": "https://localhost:8080/"
        },
        "id": "Ca5TPho28Mes",
        "outputId": "01b47c5a-2f06-438e-9e20-a8749a6fc809"
      },
      "execution_count": null,
      "outputs": [
        {
          "output_type": "stream",
          "name": "stdout",
          "text": [
            "Even numbers from 0 to 10 are as follows \n",
            "0\n",
            "2\n",
            "4\n",
            "6\n",
            "8\n",
            "10\n",
            "Sum of even numbers from 0 to 10 is 30\n"
          ]
        }
      ]
    },
    {
      "cell_type": "code",
      "source": [
        "#Write a program to add the numbers from 1 to 20 which are not divisible by 2,3 and 5\n",
        "sum=0\n",
        "print(\"Numbers from 1 to 20 which are not divisible by 2 ,3 and 5 are as follows\")\n",
        "for i in range(1,20):\n",
        "  if i%2==0 or i%3==0 or i%5==0:\n",
        "    continue\n",
        "  else:\n",
        "    print(i)\n",
        "    sum=(sum+i)\n",
        "print(\"Sum of numbers from 1 to 20 is \" ,sum)\n"
      ],
      "metadata": {
        "colab": {
          "base_uri": "https://localhost:8080/"
        },
        "id": "_7aYKVha9jya",
        "outputId": "1e895aa3-a479-451f-fec9-e5ca5e2f8688"
      },
      "execution_count": null,
      "outputs": [
        {
          "output_type": "stream",
          "name": "stdout",
          "text": [
            "Numbers from 1 to 20 which are not divisible by 2 ,3 and 5 are as follows\n",
            "1\n",
            "7\n",
            "11\n",
            "13\n",
            "17\n",
            "19\n",
            "Sum of numbers from 1 to 20 is  68\n"
          ]
        }
      ]
    },
    {
      "cell_type": "code",
      "source": [
        "#Write a program to print the FIBONACCI NUMBERS to be printed using for loop\n",
        "First_Num=0\n",
        "Second_Num=1\n",
        "Limit=int(input(\"Number of fibonacci numbers to be printed:\"))\n",
        "print(First_Num,end =\" \")\n",
        "print(Second_Num,end =\" \")\n",
        "for i in range(Limit+1):\n",
        "  sum=First_Num+Second_Num\n",
        "  First_Num=Second_Num\n",
        "  Second_Num=sum\n",
        "  print(sum,end=\" \")\n"
      ],
      "metadata": {
        "colab": {
          "base_uri": "https://localhost:8080/"
        },
        "id": "kW7sM89X__Rk",
        "outputId": "4a67ad45-34ec-475d-c14e-7750b08c7e67"
      },
      "execution_count": null,
      "outputs": [
        {
          "output_type": "stream",
          "name": "stdout",
          "text": [
            "Number of fibonacci numbers to be printed:10\n",
            "0 1 1 2 3 5 8 13 21 34 55 89 144 "
          ]
        }
      ]
    },
    {
      "cell_type": "code",
      "source": [
        "#Write a program to generate a triangular number\n",
        "num=int(input(\"Enter the number\"))\n",
        "tri_num=0\n",
        "for i in range(num,0,-1):\n",
        "  tri_num=tri_num+i\n",
        "print(\"Triangular Number of\",num,\"is\",tri_num)\n"
      ],
      "metadata": {
        "colab": {
          "base_uri": "https://localhost:8080/"
        },
        "id": "261CM9BHyMTj",
        "outputId": "9e8a10b0-ae6a-4442-e42f-58369428e984"
      },
      "execution_count": null,
      "outputs": [
        {
          "output_type": "stream",
          "name": "stdout",
          "text": [
            "Enter the number25\n",
            "Triangular Number of 25 is 325\n"
          ]
        }
      ]
    },
    {
      "cell_type": "code",
      "source": [
        "#Wirte a program to display multiplication tables from 1 to 5\n",
        "print(\"Multiplication Tbale from 1 to 5\")\n",
        "for i in range(1,11,1):\n",
        "  for j in range(1,6,1):\n",
        "    print(format(i*j,\"4d\"),end=\" \")\n",
        "  print()"
      ],
      "metadata": {
        "colab": {
          "base_uri": "https://localhost:8080/"
        },
        "id": "xXKkRTDw1FU8",
        "outputId": "99e3019c-500c-46f9-db98-394209a94501"
      },
      "execution_count": null,
      "outputs": [
        {
          "output_type": "stream",
          "name": "stdout",
          "text": [
            "Multiplication Tbale from 1 to 5\n",
            "   1    2    3    4    5 \n",
            "   2    4    6    8   10 \n",
            "   3    6    9   12   15 \n",
            "   4    8   12   16   20 \n",
            "   5   10   15   20   25 \n",
            "   6   12   18   24   30 \n",
            "   7   14   21   28   35 \n",
            "   8   16   24   32   40 \n",
            "   9   18   27   36   45 \n",
            "  10   20   30   40   50 \n"
          ]
        }
      ]
    },
    {
      "cell_type": "code",
      "source": [
        "#Write a program to display the multiplication table of the input number\n",
        "n=int(input(\"Enter the number of the multiplicataion table \"))\n",
        "for i in range(1,11,1):\n",
        "   print(format(n*i,\"4d\"),end=\" \")\n",
        "   print()"
      ],
      "metadata": {
        "colab": {
          "base_uri": "https://localhost:8080/"
        },
        "id": "Q1TObxBp2LJC",
        "outputId": "181b5a84-630d-4cee-8a04-8ed3aff19d11"
      },
      "execution_count": null,
      "outputs": [
        {
          "output_type": "stream",
          "name": "stdout",
          "text": [
            "Enter the number of the multiplicataion table 121\n",
            " 121 \n",
            " 242 \n",
            " 363 \n",
            " 484 \n",
            " 605 \n",
            " 726 \n",
            " 847 \n",
            " 968 \n",
            "1089 \n",
            "1210 \n"
          ]
        }
      ]
    },
    {
      "cell_type": "code",
      "source": [
        "#Write a program to print the stars as follow\n",
        "x=num\n",
        "for i in range(7,0,-1):\n",
        "  for j in range(0,i,1):\n",
        "    print(\"*\",end=\" \")\n",
        "  print()"
      ],
      "metadata": {
        "colab": {
          "base_uri": "https://localhost:8080/"
        },
        "id": "TNfEfYrK2-do",
        "outputId": "bd047d73-1595-4b12-b9ef-467e37c48fe4"
      },
      "execution_count": null,
      "outputs": [
        {
          "output_type": "stream",
          "name": "stdout",
          "text": [
            "* * * * * * * \n",
            "* * * * * * \n",
            "* * * * * \n",
            "* * * * \n",
            "* * * \n",
            "* * \n",
            "* \n"
          ]
        }
      ]
    },
    {
      "cell_type": "code",
      "source": [
        "#Write a program to print the stars as follow in reverse order\n",
        "x=int(input(\"Enter the number of sequential stars to be printed\"))\n",
        "for i in range(x,0,-1):\n",
        "  for j in range(0,i,1):\n",
        "    print(\"*\",end=\" \")\n",
        "  print()"
      ],
      "metadata": {
        "colab": {
          "base_uri": "https://localhost:8080/"
        },
        "id": "5oEySZ6R5Buq",
        "outputId": "6a9e6f9b-baed-40f5-f68c-67f2980b5fdf"
      },
      "execution_count": null,
      "outputs": [
        {
          "output_type": "stream",
          "name": "stdout",
          "text": [
            "Enter the number of sequential stars to be printed15\n",
            "* * * * * * * * * * * * * * * \n",
            "* * * * * * * * * * * * * * \n",
            "* * * * * * * * * * * * * \n",
            "* * * * * * * * * * * * \n",
            "* * * * * * * * * * * \n",
            "* * * * * * * * * * \n",
            "* * * * * * * * * \n",
            "* * * * * * * * \n",
            "* * * * * * * \n",
            "* * * * * * \n",
            "* * * * * \n",
            "* * * * \n",
            "* * * \n",
            "* * \n",
            "* \n"
          ]
        }
      ]
    },
    {
      "cell_type": "code",
      "source": [
        "#Write a program to print the stars as follow in straigt order\n",
        "x=num\n",
        "for i in range(1,6,1):\n",
        "  for j in range(0,i,1):\n",
        "    print(\"*\",end=\" \")\n",
        "  print()"
      ],
      "metadata": {
        "colab": {
          "base_uri": "https://localhost:8080/"
        },
        "id": "uLWC1hix5daH",
        "outputId": "4e81427b-d0ab-45dd-e7f2-f237eaca3d41"
      },
      "execution_count": null,
      "outputs": [
        {
          "output_type": "stream",
          "name": "stdout",
          "text": [
            "* \n",
            "* * \n",
            "* * * \n",
            "* * * * \n",
            "* * * * * \n"
          ]
        }
      ]
    },
    {
      "cell_type": "code",
      "source": [
        "#Write a program to print the numbers from 1 to 5\n",
        "x=num\n",
        "for i in range(1,6,1):\n",
        "  for j in range(1,i+1,1):\n",
        "    print(j,end=\" \")\n",
        "  print()"
      ],
      "metadata": {
        "colab": {
          "base_uri": "https://localhost:8080/"
        },
        "id": "A8Le8RPQ6pBu",
        "outputId": "b5d3b076-f83f-454d-a224-fc08bf4fdc28"
      },
      "execution_count": null,
      "outputs": [
        {
          "output_type": "stream",
          "name": "stdout",
          "text": [
            "1 \n",
            "1 2 \n",
            "1 2 3 \n",
            "1 2 3 4 \n",
            "1 2 3 4 5 \n"
          ]
        }
      ]
    },
    {
      "cell_type": "code",
      "source": [
        "#Write a program to print the numbers from 1 to 5 agin from 4 to 1\n",
        "x=num\n",
        "for i in range(1,6,1):\n",
        "  for j in range(1,i,1):\n",
        "    print(j,end=\" \")\n",
        "  print()\n",
        "for i in range(5,0,-1):\n",
        "  for j in range(1,i+1,1):\n",
        "    print(j,end=\" \")\n",
        "  print()"
      ],
      "metadata": {
        "colab": {
          "base_uri": "https://localhost:8080/"
        },
        "id": "F770L3wX8pBP",
        "outputId": "5134d4c5-d820-4e40-8ec3-67ccd07a45d0"
      },
      "execution_count": null,
      "outputs": [
        {
          "output_type": "stream",
          "name": "stdout",
          "text": [
            "\n",
            "1 \n",
            "1 2 \n",
            "1 2 3 \n",
            "1 2 3 4 \n",
            "1 2 3 4 5 \n",
            "1 2 3 4 \n",
            "1 2 3 \n",
            "1 2 \n",
            "1 \n"
          ]
        }
      ]
    },
    {
      "cell_type": "code",
      "source": [
        "#Write a program to check whether the number is prime or not using break statement \n",
        "n=int(input(\"Enter the number\"))\n",
        "x=n\n",
        "flag=1\n",
        "for i in range(2,num):\n",
        "  if n%i==0:\n",
        "    flag=0\n",
        "    break\n",
        "if flag==1:\n",
        "    print(n,\"is a prime number\")\n",
        "else:\n",
        "    print(n,\"is not a prime number\")\n",
        "\n"
      ],
      "metadata": {
        "colab": {
          "base_uri": "https://localhost:8080/"
        },
        "id": "SUYjOeD2-wAf",
        "outputId": "84b55942-accd-420c-be60-b2a48c3918ef"
      },
      "execution_count": null,
      "outputs": [
        {
          "output_type": "stream",
          "name": "stdout",
          "text": [
            "Enter the number89\n",
            "89 is a prime number\n"
          ]
        }
      ]
    },
    {
      "cell_type": "code",
      "source": [
        "#Write a program to remove the space between the strings in the sentence\n",
        "a=str(input(\"Please enter the string\"))\n",
        "print(\"Entered String is :\",a)\n",
        "print(\"After removing spaces, the string becomes:\")\n",
        "for i in a:\n",
        "  if i==\" \":\n",
        "    continue\n",
        "  print(i,end=\"\")"
      ],
      "metadata": {
        "colab": {
          "base_uri": "https://localhost:8080/"
        },
        "id": "k_MnWgaTCxm7",
        "outputId": "a6b2b76a-20e7-490e-a9c7-1927cfd37e90"
      },
      "execution_count": null,
      "outputs": [
        {
          "output_type": "stream",
          "name": "stdout",
          "text": [
            "Please enter the stringI Love Python\n",
            "Entered String is : I Love Python\n",
            "After removing spaces, the string becomes:\n",
            "ILovePython"
          ]
        }
      ]
    }
  ]
}