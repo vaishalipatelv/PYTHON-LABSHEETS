{
  "cells": [
    {
      "cell_type": "code",
      "execution_count": null,
      "metadata": {
        "colab": {
          "base_uri": "https://localhost:8080/"
        },
        "id": "Dc_icyH45Z1H",
        "outputId": "879e77e6-4f58-4d3b-e97c-fc6c34c267e7"
      },
      "outputs": [
        {
          "name": "stdout",
          "output_type": "stream",
          "text": [
            "<class 'bool'>\n",
            "<class 'bool'>\n"
          ]
        }
      ],
      "source": [
        "#boolean Operators\n",
        "#True\n",
        "#False\n",
        "a=type(True)\n",
        "print(a)\n",
        "b=type(False)\n",
        "print(b)"
      ]
    },
    {
      "cell_type": "code",
      "execution_count": null,
      "metadata": {
        "colab": {
          "base_uri": "https://localhost:8080/",
          "height": 183
        },
        "id": "fM7Av2MP60fw",
        "outputId": "5393e7f6-0461-4439-922b-e85eb215b2b7"
      },
      "outputs": [
        {
          "ename": "NameError",
          "evalue": "ignored",
          "output_type": "error",
          "traceback": [
            "\u001b[0;31m---------------------------------------------------------------------------\u001b[0m",
            "\u001b[0;31mNameError\u001b[0m                                 Traceback (most recent call last)",
            "\u001b[0;32m<ipython-input-6-49fbc00f3002>\u001b[0m in \u001b[0;36m<module>\u001b[0;34m()\u001b[0m\n\u001b[0;32m----> 1\u001b[0;31m \u001b[0mc\u001b[0m\u001b[0;34m=\u001b[0m\u001b[0mtype\u001b[0m\u001b[0;34m(\u001b[0m\u001b[0mtrue\u001b[0m\u001b[0;34m)\u001b[0m\u001b[0;34m\u001b[0m\u001b[0;34m\u001b[0m\u001b[0m\n\u001b[0m\u001b[1;32m      2\u001b[0m \u001b[0mprint\u001b[0m\u001b[0;34m(\u001b[0m\u001b[0mc\u001b[0m \u001b[0;34m)\u001b[0m\u001b[0;34m\u001b[0m\u001b[0;34m\u001b[0m\u001b[0m\n",
            "\u001b[0;31mNameError\u001b[0m: name 'true' is not defined"
          ]
        }
      ],
      "source": [
        "c=type(true)\n",
        "print(c )"
      ]
    },
    {
      "cell_type": "code",
      "execution_count": null,
      "metadata": {
        "colab": {
          "base_uri": "https://localhost:8080/",
          "height": 183
        },
        "id": "nrAmtxoe66zH",
        "outputId": "37646cac-d078-4475-b0a3-69dcb6c07aab"
      },
      "outputs": [
        {
          "ename": "NameError",
          "evalue": "ignored",
          "output_type": "error",
          "traceback": [
            "\u001b[0;31m---------------------------------------------------------------------------\u001b[0m",
            "\u001b[0;31mNameError\u001b[0m                                 Traceback (most recent call last)",
            "\u001b[0;32m<ipython-input-5-8dc4a12b2802>\u001b[0m in \u001b[0;36m<module>\u001b[0;34m()\u001b[0m\n\u001b[0;32m----> 1\u001b[0;31m \u001b[0mc\u001b[0m\u001b[0;34m=\u001b[0m\u001b[0mtype\u001b[0m\u001b[0;34m(\u001b[0m\u001b[0mfalse\u001b[0m\u001b[0;34m)\u001b[0m\u001b[0;34m\u001b[0m\u001b[0;34m\u001b[0m\u001b[0m\n\u001b[0m\u001b[1;32m      2\u001b[0m \u001b[0mprint\u001b[0m\u001b[0;34m(\u001b[0m\u001b[0mc\u001b[0m\u001b[0;34m)\u001b[0m\u001b[0;34m\u001b[0m\u001b[0;34m\u001b[0m\u001b[0m\n",
            "\u001b[0;31mNameError\u001b[0m: name 'false' is not defined"
          ]
        }
      ],
      "source": [
        "c=type(false)\n",
        "print(c)"
      ]
    },
    {
      "cell_type": "code",
      "execution_count": null,
      "metadata": {
        "colab": {
          "base_uri": "https://localhost:8080/"
        },
        "id": "UeayaXZV7B4e",
        "outputId": "b61d157c-0bb4-484f-8dcb-35995950bec3"
      },
      "outputs": [
        {
          "name": "stdout",
          "output_type": "stream",
          "text": [
            "False\n",
            "True\n"
          ]
        }
      ],
      "source": [
        "#Not operators\n",
        "a=not True\n",
        "print(a)\n",
        "b=not False\n",
        "print(b)"
      ]
    },
    {
      "cell_type": "code",
      "execution_count": null,
      "metadata": {
        "colab": {
          "base_uri": "https://localhost:8080/"
        },
        "id": "4EOwxGtj8Poc",
        "outputId": "5c14dab2-eb81-4572-96ea-360b43140cf5"
      },
      "outputs": [
        {
          "name": "stdout",
          "output_type": "stream",
          "text": [
            "True False False False\n"
          ]
        }
      ],
      "source": [
        "#AND Operators\n",
        "a=True and True\n",
        "b=False and False\n",
        "c=True and False\n",
        "d=False and True\n",
        "print(a,b,c,d)"
      ]
    },
    {
      "cell_type": "code",
      "execution_count": null,
      "metadata": {
        "colab": {
          "base_uri": "https://localhost:8080/"
        },
        "id": "eMXVf4Cd82tp",
        "outputId": "4e388140-2b7c-42cd-d8de-7bd791ce07d5"
      },
      "outputs": [
        {
          "name": "stdout",
          "output_type": "stream",
          "text": [
            "True False True True\n"
          ]
        }
      ],
      "source": [
        "#OR Operator\n",
        "a=True or True\n",
        "b=False or False\n",
        "c=True or False\n",
        "d=False or True\n",
        "print(a,b,c,d)\n"
      ]
    },
    {
      "cell_type": "code",
      "execution_count": null,
      "metadata": {
        "colab": {
          "base_uri": "https://localhost:8080/"
        },
        "id": "6_-_nRR99cII",
        "outputId": "2be0335e-7ec8-4a9e-ef05-a7ba70a926ad"
      },
      "outputs": [
        {
          "name": "stdout",
          "output_type": "stream",
          "text": [
            "False\n",
            "True\n"
          ]
        }
      ],
      "source": [
        "#Numbers in boolean expression\n",
        "a=not 1\n",
        "print(a)\n",
        "b=not 0\n",
        "print(b)"
      ]
    },
    {
      "cell_type": "code",
      "execution_count": null,
      "metadata": {
        "colab": {
          "base_uri": "https://localhost:8080/"
        },
        "id": "mMpxYaOS-K4O",
        "outputId": "230c50a3-a563-4a6d-c8da-03a50ae45e97"
      },
      "outputs": [
        {
          "name": "stdout",
          "output_type": "stream",
          "text": [
            "Enter the three numbers1,2,3\n",
            "The three numbers are 1 2 3\n",
            "p<q<r is True\n",
            "p>q>r is  False\n",
            "(p<q) and (q<r) True\n",
            "(p<q) or (q>r) True\n"
          ]
        }
      ],
      "source": [
        "#Write the program to evaliate the follwing coditions and take the input from the user\n",
        "p,q,r=eval(input(\"Enter the three numbers\"))\n",
        "print(\"The three numbers are\",p,q,r)\n",
        "a=(p<q<r)\n",
        "b=(p>q>r)\n",
        "c=(p<q) and (q<r)\n",
        "d=(p<q) or (q<r)\n",
        "print(\"p<q<r is\",a)\n",
        "print(\"p>q>r is \",b)\n",
        "print(\"(p<q) and (q<r)\",c)\n",
        "print(\"(p<q) or (q>r)\",d)\n"
      ]
    },
    {
      "cell_type": "code",
      "execution_count": null,
      "metadata": {
        "id": "CfEX5z26BoJx"
      },
      "outputs": [],
      "source": [
        "#Decision Making Statements\n",
        "#1.If statements\n",
        "#2.If-Else statements\n",
        "#3.Nested If Statemnts "
      ]
    },
    {
      "cell_type": "code",
      "execution_count": null,
      "metadata": {
        "colab": {
          "base_uri": "https://localhost:8080/"
        },
        "id": "-ZBm6uXOFYOd",
        "outputId": "6185940f-e932-4842-b163-0a26f6ae7ec9"
      },
      "outputs": [
        {
          "name": "stdout",
          "output_type": "stream",
          "text": [
            "Enter the two numbers10,10\n",
            "The two numbers are 10 10\n",
            "The two numbers are Equal\n"
          ]
        }
      ],
      "source": [
        "#write a program to check whether the number is greater or not\n",
        "a,b=eval(input(\"Enter the two numbers\"))\n",
        "print(\"The two numbers are\",a,b)\n",
        "if a==b:\n",
        "  print(\"The two numbers are Equal\")\n"
      ]
    },
    {
      "cell_type": "code",
      "execution_count": null,
      "metadata": {
        "colab": {
          "base_uri": "https://localhost:8080/"
        },
        "id": "bcCvzTIyEKEz",
        "outputId": "7a97495a-bb89-436e-f6ae-a8d6c239b8cf"
      },
      "outputs": [
        {
          "name": "stdout",
          "output_type": "stream",
          "text": [
            "Enter the number55\n",
            "The number is Odd\n"
          ]
        }
      ],
      "source": [
        "#Write a program to check whether the number is even or odd using IF-Else statements condition\n",
        "a=eval(input(\"Enter the number\"))\n",
        "if a%2==0:\n",
        "  print(\"The number is Even\")\n",
        "else:\n",
        "  print(\"The number is Odd\")"
      ]
    },
    {
      "cell_type": "code",
      "execution_count": null,
      "metadata": {
        "colab": {
          "base_uri": "https://localhost:8080/"
        },
        "id": "5XwFqoTEGzz9",
        "outputId": "0249bdfc-dd18-4cf8-ed0c-70fdf9ba1e2f"
      },
      "outputs": [
        {
          "name": "stdout",
          "output_type": "stream",
          "text": [
            "Enter the number105\n",
            "Hello\n"
          ]
        }
      ],
      "source": [
        "#Write a program to check whether the number is multiple of 5 or not using IF-Else statements condition\n",
        "a=eval(input(\"Enter the number\"))\n",
        "if a%5==0:\n",
        "  print(\"Hello\")\n",
        "else:\n",
        "  print(\"Bye\")"
      ]
    },
    {
      "cell_type": "code",
      "execution_count": null,
      "metadata": {
        "colab": {
          "base_uri": "https://localhost:8080/"
        },
        "id": "SOeewAxAHib3",
        "outputId": "59a5a926-87f4-4e41-9f63-39ab8580bfca"
      },
      "outputs": [
        {
          "name": "stdout",
          "output_type": "stream",
          "text": [
            "Enter the three digit number323\n",
            "the last digit is divisible\n"
          ]
        }
      ],
      "source": [
        "#Write program to check whether the last digit of a three digit number is divisible by 3 or not using If-Else statement\n",
        "N=eval(input(\"Enter the three digit number\"))\n",
        "a=N//100\n",
        "b=(N%100)//10\n",
        "c=N%10\n",
        "if c%3==0:\n",
        "  print(\"the last digit is divisible by 3\")\n",
        "else:\n",
        "  print(\"The last digit is not divisible by 3\")"
      ]
    },
    {
      "cell_type": "code",
      "execution_count": null,
      "metadata": {
        "colab": {
          "base_uri": "https://localhost:8080/"
        },
        "id": "A1xfQZg9JR9d",
        "outputId": "daef6966-4e13-4806-94ae-fee4394f2490"
      },
      "outputs": [
        {
          "name": "stdout",
          "output_type": "stream",
          "text": [
            "Enter the name of theAgra\n",
            "The monument in Agra is  Taj Mahal\n"
          ]
        }
      ],
      "source": [
        "#Write a program to find the monument of the coresponding city using ElseIf statements\n",
        "a=input(\"Enter the name of the\")\n",
        "if a =='Delhi':\n",
        "  print(\"The monument in Delhi is Red Fort\")\n",
        "elif (a=='Agra'):\n",
        "  print(\"The monument in Agra is  Taj Mahal\")\n",
        "else:\n",
        "   print(\"The monument in Jaipur is  Jal Mahal\") \n",
        "\n"
      ]
    },
    {
      "cell_type": "code",
      "execution_count": null,
      "metadata": {
        "colab": {
          "base_uri": "https://localhost:8080/"
        },
        "id": "xwmacVGOLkgE",
        "outputId": "3091d505-0bf3-4b54-a494-367ce00b3cfc"
      },
      "outputs": [
        {
          "name": "stdout",
          "output_type": "stream",
          "text": [
            "Enter the number of the day5\n",
            "It is Friday\n"
          ]
        }
      ],
      "source": [
        "#Write a program to find the present day of the week\n",
        "a=eval(input(\"Enter the number of the day\"))\n",
        "if a==1:\n",
        "  print(\"It is Monday\")\n",
        "elif a==2:\n",
        "  print(\"It is Tuesday\")\n",
        "elif a==3:\n",
        "  print(\"It is wednesday\")\n",
        "elif a==4:\n",
        "  print(\"It is Thursday\")\n",
        "elif a==5:\n",
        "  print(\"It is Friday\")\n",
        "elif a==6:\n",
        "  print(\"It is Saturday\")\n",
        "elif a==7:\n",
        "  print(\"It is Sunday\")\n",
        "else:\n",
        "  print(\"There are  only seven days in a week\")"
      ]
    },
    {
      "cell_type": "code",
      "execution_count": null,
      "metadata": {
        "colab": {
          "base_uri": "https://localhost:8080/"
        },
        "id": "ZF1eFLqqwy2o",
        "outputId": "82eec16f-4827-4db2-c1cd-3f9d2a0d9910"
      },
      "outputs": [
        {
          "name": "stdout",
          "output_type": "stream",
          "text": [
            "Enter the radius of the circle2\n",
            "The area of the circle is  12.56\n",
            "The circumference of the circle is 12.56\n"
          ]
        }
      ],
      "source": [
        "#Write a program to find area and circumference of the circle if the radius of the circle is greater than 0...\n",
        "r=eval(input(\"Enter the radius of the circle\"))\n",
        "if(r>0):\n",
        "  area=3.14*r*r\n",
        "  circumference=2*3.14*r\n",
        "  print(\"The area of the circle is \",area)\n",
        "  print(\"The circumference of the circle is\",circumference)\n",
        "else:\n",
        "  print(\"The radius of the circle is not sufficient\")\n"
      ]
    },
    {
      "cell_type": "code",
      "execution_count": null,
      "metadata": {
        "colab": {
          "base_uri": "https://localhost:8080/"
        },
        "id": "wW-fNxCxM3wC",
        "outputId": "9603c976-31aa-4475-d8f1-4db2473e9adb"
      },
      "outputs": [
        {
          "name": "stdout",
          "output_type": "stream",
          "text": [
            "Enter the two numbers10,20\n",
            "The two numbers are 10 20\n",
            "b is greater than a\n"
          ]
        }
      ],
      "source": [
        "#Write a program to find the graeter number among two numbers\n",
        "a,b=eval(input(\"Enter the two numbers\"))\n",
        "print(\"The two numbers are\",a,b)\n",
        "if a>b:\n",
        "  print(\"a is greater than b\")\n",
        "else:\n",
        "  print(\"b is greater than a\")\n"
      ]
    },
    {
      "cell_type": "code",
      "execution_count": null,
      "metadata": {
        "colab": {
          "base_uri": "https://localhost:8080/"
        },
        "id": "UYtOyHhovstL",
        "outputId": "ec3c665b-2ac8-4601-d8f7-e77bdb3d6bfc"
      },
      "outputs": [
        {
          "name": "stdout",
          "output_type": "stream",
          "text": [
            "Enter the first number2\n",
            "Enter the second mnumber2\n",
            "Enter the third number3\n",
            "2 is less than 2 and 3\n"
          ]
        }
      ],
      "source": [
        "#Write a program to find check whether the input first number is greater than other or  not\n",
        "num1=eval(input(\"Enter the first number\"))\n",
        "num2=eval(input(\"Enter the second mnumber\"))\n",
        "num3=eval(input(\"Enter the third number\"))\n",
        "if(num1>num2):\n",
        "  if((num1>num3)):\n",
        "    print(num1,\" is greater than \",num2,\"and\",num3)\n",
        "else:\n",
        "  print(num1,\"is less than\",num2,\"and\",num3)"
      ]
    },
    {
      "cell_type": "code",
      "execution_count": null,
      "metadata": {
        "colab": {
          "base_uri": "https://localhost:8080/"
        },
        "id": "pHSKAd5Ev6C9",
        "outputId": "8e25815e-f8e1-454b-e908-c9855ce6e925"
      },
      "outputs": [
        {
          "name": "stdout",
          "output_type": "stream",
          "text": [
            "Enter the first number10\n",
            "Enter the second mnumber2\n",
            "1.Addition\n",
            "2.Subtraction\n",
            "3.Multiplication\n",
            "4.Integer Division\n",
            "5.Float Division\n",
            "Enter the choice of operation5\n",
            "Floor division of 10 and 2 is 5\n"
          ]
        }
      ],
      "source": [
        "#Write a program to perform arthimetic operations for the input numbers\n",
        "num1=eval(input(\"Enter the first number\"))\n",
        "num2=eval(input(\"Enter the second mnumber\"))\n",
        "print(\"1.Addition\")\n",
        "print(\"2.Subtraction\")\n",
        "print(\"3.Multiplication\")\n",
        "print(\"4.Integer Division\")\n",
        "print(\"5.Float Division\")\n",
        "choice=int(input(\"Enter the choice of operation\"))\n",
        "if(choice==1):\n",
        "  print(\"Addition of\",num1,\"and\",num2,\"is\",num1+num2)\n",
        "elif(choice==2):\n",
        "  print(\"Subtraction of\",num1,\"and\",num2,\"is\",num1-num2)\n",
        "elif(choice==3):\n",
        "  print(\"Multiplication of\",num1,\"and\",num2,\"is\",num1*num2)\n",
        "elif(choice==4):\n",
        "  print(\"Integer division of\",num1,\"and\",num2,\"is\",num1/num2)\n",
        "elif(choice==5):\n",
        "  print(\"Floor division of\",num1,\"and\",num2,\"is\",num1//num2)\n",
        "else:\n",
        "  print(\"Entered choice is invalid\")\n",
        "\n"
      ]
    },
    {
      "cell_type": "code",
      "execution_count": null,
      "metadata": {
        "colab": {
          "base_uri": "https://localhost:8080/"
        },
        "id": "hBM6EOl70zeO",
        "outputId": "52cd689f-6419-46a6-f11d-8aca26c2e0bd"
      },
      "outputs": [
        {
          "name": "stdout",
          "output_type": "stream",
          "text": [
            "Enter the three digit number625\n",
            "The square of the input numbers is 390625\n"
          ]
        }
      ],
      "source": [
        "#Write a program to calculate the square o\n",
        "N=eval(input(\"Enter the three digit number\"))\n",
        "if N%5==0:\n",
        "  print(\"The square of the input numbers is\",N*N)\n",
        "else:\n",
        "  print(\"The last digit is not divisible by 5\")"
      ]
    }
  ],
  "metadata": {
    "colab": {
      "collapsed_sections": [],
      "name": "Lab_Sheet3.ipynb",
      "provenance": []
    },
    "kernelspec": {
      "display_name": "Python 3",
      "name": "python3"
    },
    "language_info": {
      "name": "python"
    }
  },
  "nbformat": 4,
  "nbformat_minor": 0
}