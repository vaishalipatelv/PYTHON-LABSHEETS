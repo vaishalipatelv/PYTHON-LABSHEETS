{
  "nbformat": 4,
  "nbformat_minor": 0,
  "metadata": {
    "colab": {
      "name": "Lab_Sheet_1&2.ipynb",
      "provenance": []
    },
    "kernelspec": {
      "name": "python3",
      "display_name": "Python 3"
    },
    "language_info": {
      "name": "python"
    }
  },
  "cells": [
    {
      "cell_type": "code",
      "source": [
        "a=type('Hello World')\n",
        "b=type(\"Hello World\")\n",
        "c=type('''Hello World''')\n",
        "d=type(123)\n",
        "e=type(23.4)\n",
        "f=type(True)\n",
        "print(a)\n",
        "print(b)\n",
        "print(c)\n",
        "print(d)\n",
        "print(e)\n",
        "print(f)"
      ],
      "metadata": {
        "colab": {
          "base_uri": "https://localhost:8080/"
        },
        "id": "6_2--jpRpQHl",
        "outputId": "146a3df4-394f-43c8-bf02-5cef8a2ffa13"
      },
      "execution_count": null,
      "outputs": [
        {
          "output_type": "stream",
          "name": "stdout",
          "text": [
            "<class 'str'>\n",
            "<class 'str'>\n",
            "<class 'str'>\n",
            "<class 'int'>\n",
            "<class 'float'>\n",
            "<class 'bool'>\n"
          ]
        }
      ]
    },
    {
      "cell_type": "code",
      "source": [
        "10\n",
        "-88\n",
        "1220202"
      ],
      "metadata": {
        "colab": {
          "base_uri": "https://localhost:8080/"
        },
        "id": "vufOrjP3rTWr",
        "outputId": "5769f18d-d33b-4cda-cc58-c1724aea9c5d"
      },
      "execution_count": null,
      "outputs": [
        {
          "output_type": "execute_result",
          "data": {
            "text/plain": [
              "1220202"
            ]
          },
          "metadata": {},
          "execution_count": 15
        }
      ]
    },
    {
      "cell_type": "code",
      "source": [
        "D=\"Hello World\"\n",
        "print(D)\n",
        "B=\"Sanketh\"\n",
        "print(B)\n",
        "P=\"Python_Programming\"\n",
        "print(P)\n",
        "Sentence=\"Hello, how are you?Welcome to the world of Python programming.It is just beggining.Let us move on to the next topic\"\n",
        "print(Sentence)\n",
        "p='''Hello World'''\n",
        "print(p)"
      ],
      "metadata": {
        "colab": {
          "base_uri": "https://localhost:8080/"
        },
        "id": "-R_-SsjNrkzj",
        "outputId": "1a5e6fa6-58fb-4873-a5d9-1fee247d5da3"
      },
      "execution_count": null,
      "outputs": [
        {
          "output_type": "stream",
          "name": "stdout",
          "text": [
            "Hello World\n",
            "Sanketh\n",
            "Python_Programming\n",
            "Hello, how are you?Welcome to the world of Python programming.It is just beggining.Let us move on to the next topic\n",
            "Hello World\n"
          ]
        }
      ]
    },
    {
      "cell_type": "code",
      "source": [
        "a=str(12.50)\n",
        "print(a)\n",
        "b=type(str(12.5))\n",
        "print(b)"
      ],
      "metadata": {
        "colab": {
          "base_uri": "https://localhost:8080/"
        },
        "id": "eYbhL5CauRg0",
        "outputId": "218b7534-7113-4f8b-a2d6-77ddcfc3d797"
      },
      "execution_count": null,
      "outputs": [
        {
          "output_type": "stream",
          "name": "stdout",
          "text": [
            "12.5\n",
            "<class 'str'>\n"
          ]
        }
      ]
    },
    {
      "cell_type": "code",
      "source": [
        "print('Hello welcome to Python Programming')\n",
        "print(10000)\n",
        "print('Display string Demo')"
      ],
      "metadata": {
        "colab": {
          "base_uri": "https://localhost:8080/"
        },
        "id": "ZsQ1ebbxvqUh",
        "outputId": "0150485c-3aa6-4b68-9479-dc9d33483201"
      },
      "execution_count": null,
      "outputs": [
        {
          "output_type": "stream",
          "name": "stdout",
          "text": [
            "Hello welcome to Python Programming\n",
            "10000\n",
            "Display string Demo\n"
          ]
        }
      ]
    },
    {
      "cell_type": "code",
      "source": [
        "print(\"The flight attendant asked,May I see your boarding  pass\")\n",
        "print(\"The flight attendant asked, \\'May I see your boarding  pass\\'\")\n",
        "print(\"The flight attendant asked,\\\" May I see your boarding  pass\\\"\")\n",
        "print(\"The flight attendant asked,\\t May I see your boarding  pass\")\n",
        "print(\"The flight attendant asked, \\n May I see your boarding  pass\")\n",
        "print(\"The flight attendant asked, \\b May I see your boarding  pass\")"
      ],
      "metadata": {
        "colab": {
          "base_uri": "https://localhost:8080/"
        },
        "id": "eegGXT1Jwa4T",
        "outputId": "9ef0c630-a58e-451b-9e96-cdb2d9534f40"
      },
      "execution_count": null,
      "outputs": [
        {
          "output_type": "stream",
          "name": "stdout",
          "text": [
            "The flight attendant asked,May I see your boarding  pass\n",
            "The flight attendant asked, 'May I see your boarding  pass'\n",
            "The flight attendant asked,\" May I see your boarding  pass\"\n",
            "The flight attendant asked,\t May I see your boarding  pass\n",
            "The flight attendant asked, \n",
            " May I see your boarding  pass\n",
            "The flight attendant asked, \b May I see your boarding  pass\n"
          ]
        }
      ]
    },
    {
      "cell_type": "code",
      "source": [
        "\n",
        "##\n",
        "z=1\n",
        "radius=5\n",
        "R=radius+z\n",
        "print(R)\n",
        "##\n",
        "e=(5+10*(10+5))\n",
        "print(e)"
      ],
      "metadata": {
        "colab": {
          "base_uri": "https://localhost:8080/"
        },
        "id": "hbIofIqKx836",
        "outputId": "4a0f0805-c92e-41da-eaf6-a6149794c5d3"
      },
      "execution_count": null,
      "outputs": [
        {
          "output_type": "stream",
          "name": "stdout",
          "text": [
            "6\n",
            "155\n"
          ]
        }
      ]
    },
    {
      "cell_type": "code",
      "source": [
        "25+25"
      ],
      "metadata": {
        "colab": {
          "base_uri": "https://localhost:8080/"
        },
        "id": "53bFLjI6uqWA",
        "outputId": "77edcb0c-8f91-4a94-8873-bb9cc771ff3b"
      },
      "execution_count": null,
      "outputs": [
        {
          "output_type": "execute_result",
          "data": {
            "text/plain": [
              "50"
            ]
          },
          "metadata": {},
          "execution_count": 4
        }
      ]
    },
    {
      "cell_type": "code",
      "source": [
        "25*25"
      ],
      "metadata": {
        "colab": {
          "base_uri": "https://localhost:8080/"
        },
        "id": "EMkzAbc5usiP",
        "outputId": "11aae955-81a0-488c-c3c8-2c8a079fd528"
      },
      "execution_count": null,
      "outputs": [
        {
          "output_type": "execute_result",
          "data": {
            "text/plain": [
              "625"
            ]
          },
          "metadata": {},
          "execution_count": 5
        }
      ]
    },
    {
      "cell_type": "code",
      "source": [
        "350-652\n"
      ],
      "metadata": {
        "colab": {
          "base_uri": "https://localhost:8080/"
        },
        "id": "4U8zEe7Iuutw",
        "outputId": "de87549d-3f0c-4492-9274-3b8b1b0108d5"
      },
      "execution_count": null,
      "outputs": [
        {
          "output_type": "execute_result",
          "data": {
            "text/plain": [
              "-302"
            ]
          },
          "metadata": {},
          "execution_count": 6
        }
      ]
    },
    {
      "cell_type": "code",
      "source": [
        "360/12"
      ],
      "metadata": {
        "colab": {
          "base_uri": "https://localhost:8080/"
        },
        "id": "j58lwGaMxaag",
        "outputId": "80a9c494-9683-4847-9738-2079a0e7baf1"
      },
      "execution_count": null,
      "outputs": [
        {
          "output_type": "execute_result",
          "data": {
            "text/plain": [
              "30.0"
            ]
          },
          "metadata": {},
          "execution_count": 12
        }
      ]
    },
    {
      "cell_type": "code",
      "source": [
        "print(\"Hello\\nWorld\\nGood bye\")\n",
        "print(\"Hello\\tWorld\\tGood bye\")"
      ],
      "metadata": {
        "colab": {
          "base_uri": "https://localhost:8080/"
        },
        "id": "zG6DZ8l5zSex",
        "outputId": "4622d5ea-1df6-41d3-a2e4-d1456df32130"
      },
      "execution_count": null,
      "outputs": [
        {
          "output_type": "stream",
          "name": "stdout",
          "text": [
            "Hello\n",
            "World\n",
            "Good bye\n",
            "Hello\tWorld\tGood bye\n"
          ]
        }
      ]
    },
    {
      "cell_type": "code",
      "source": [
        "print('Hello',end=' ')\n",
        "print('world',end=' ')\n",
        "print('Good bye',end=' ')"
      ],
      "metadata": {
        "id": "R8vABRl20aAq",
        "colab": {
          "base_uri": "https://localhost:8080/"
        },
        "outputId": "3163ed6b-b678-4531-e0b7-adafb6045f54"
      },
      "execution_count": null,
      "outputs": [
        {
          "output_type": "stream",
          "name": "stdout",
          "text": [
            "Hello world Good bye "
          ]
        }
      ]
    },
    {
      "cell_type": "code",
      "source": [
        "length=25\n",
        "breadth=25\n",
        "print(\"The area of rectangle is\",length*breadth)\n"
      ],
      "metadata": {
        "colab": {
          "base_uri": "https://localhost:8080/"
        },
        "id": "09zXQoK_3UJ4",
        "outputId": "e36626f8-1b95-4a2b-febf-1cb20cd72de9"
      },
      "execution_count": null,
      "outputs": [
        {
          "output_type": "stream",
          "name": "stdout",
          "text": [
            "The area of rectangle is 625\n"
          ]
        }
      ]
    },
    {
      "cell_type": "code",
      "source": [
        "Str1=input('Enter String1: ')\n",
        "Str2=input('Enter String2: ')\n",
        "print('String1= ',Str1)\n",
        "print('String2= ',Str2)\n",
        "\n"
      ],
      "metadata": {
        "id": "-UUPOD5-4Exw"
      },
      "execution_count": null,
      "outputs": []
    },
    {
      "cell_type": "code",
      "source": [
        "print(\"PLease Enter the number\")\n",
        "X=(input())\n",
        "print(\"Enter the number is \",X)\n",
        "print(type(X))"
      ],
      "metadata": {
        "colab": {
          "base_uri": "https://localhost:8080/"
        },
        "id": "OwQNW6Pt4ntD",
        "outputId": "7c29b92f-c92a-4c83-b241-6cf61be4ab40"
      },
      "execution_count": null,
      "outputs": [
        {
          "output_type": "stream",
          "name": "stdout",
          "text": [
            "PLease Enter the number\n",
            "25\n",
            "Enter the number is  25\n",
            "<class 'int'>\n"
          ]
        }
      ]
    },
    {
      "cell_type": "code",
      "source": [
        "print(\"Please Enter Number \")\n",
        "Num1=input()\n",
        "print(\"Num1=\",Num1)\n",
        "print(type(Num1))\n",
        "print(\"Converting type of Num1 to int\")\n",
        "Num1=int(Num1)\n",
        "print(Num1)\n",
        "print(type(Num1))"
      ],
      "metadata": {
        "colab": {
          "base_uri": "https://localhost:8080/"
        },
        "id": "oXE222iL5gwX",
        "outputId": "410b9a08-9c0e-449a-966e-3d01600d07c4"
      },
      "execution_count": null,
      "outputs": [
        {
          "output_type": "stream",
          "name": "stdout",
          "text": [
            "Please Enter Number \n",
            "25\n",
            "Num1= 25\n",
            "<class 'str'>\n",
            "Converting type of Num1 to int\n",
            "25\n",
            "<class 'int'>\n"
          ]
        }
      ]
    },
    {
      "cell_type": "code",
      "source": [
        "#write a program to display the details entered by the user\n",
        "Name=input(\"Enter the name\")\n",
        "Age=int(input(\"Enter the age\"))\n",
        "Gender=input(\"Enter the gender\");\n",
        "Height=eval(input(\"Enter the height \"))\n",
        "print(\"Name is \",Name)\n",
        "print(\"Age is \",Age)\n",
        "print(\"Gender is \",Gender)\n",
        "print(\"Height is\",Height)"
      ],
      "metadata": {
        "id": "FsXTBq5c6Wye",
        "colab": {
          "base_uri": "https://localhost:8080/"
        },
        "outputId": "138c5365-6521-48bb-90bc-344b1e5c5ac5"
      },
      "execution_count": null,
      "outputs": [
        {
          "output_type": "stream",
          "name": "stdout",
          "text": [
            "Enter the nameSANKETH\n",
            "Enter the age18\n",
            "Enter the genderMale\n",
            "Enter the height 5.5\n",
            "Name is  SANKETH\n",
            "Age is  18\n",
            "Gender is  Male\n",
            "Height is 5.5\n"
          ]
        }
      ]
    },
    {
      "cell_type": "code",
      "source": [
        "#Program to find the Profit\n",
        "\"\"\"The selling price must be greater than cost of the product\"\"\"\n",
        "Cost=eval(input (\"Enter the cost of the product\"))#Read the cost of the of the product \n",
        "Selling_price=eval(input(\"Enter the Selling price of the Product\" ))#read the selling price of the product\n",
        "print(\"The profit gained on the product is \",Selling_price-Cost)#compute the profit the product"
      ],
      "metadata": {
        "colab": {
          "base_uri": "https://localhost:8080/"
        },
        "id": "e-otrpmfsOXo",
        "outputId": "ac5e049c-9ea8-4edc-851e-2903e384724f"
      },
      "execution_count": null,
      "outputs": [
        {
          "output_type": "stream",
          "name": "stdout",
          "text": [
            "Enter the cost of the product350\n",
            "Enter the Selling price of the Product550\n",
            "The profit gained on the product is  200\n"
          ]
        }
      ]
    },
    {
      "cell_type": "code",
      "source": [
        "#Write  program to find the square and cube of a number.\n",
        "n=eval(input(\"Enter the number\"))\n",
        "Square=n*n\n",
        "Cube=n*n*n\n",
        "Square_of_the_number=(\"The square of the enterd number is \",Square)\n",
        "print(Square_of_the_number)\n",
        "Cube_of_the_number=(\"The square of the enterd number is \",Cube)\n",
        "print(Cube_of_the_number)"
      ],
      "metadata": {
        "colab": {
          "base_uri": "https://localhost:8080/"
        },
        "id": "Tl3crRaLvBs4",
        "outputId": "c1c1e9db-2c2f-4e37-9d44-f4a1626282c6"
      },
      "execution_count": null,
      "outputs": [
        {
          "output_type": "stream",
          "name": "stdout",
          "text": [
            "Enter the number6\n",
            "('The square of the enterd number is ', 36)\n",
            "('The square of the enterd number is ', 216)\n"
          ]
        }
      ]
    },
    {
      "cell_type": "code",
      "source": [
        "#write a program to find the Simple_Interest\n",
        "P=float(input(\"Enter the total lended loan amount\"))\n",
        "r=float(input(\"Enter the rate of the interset percentage\"))\n",
        "t=float(input(\"Enter the time period of the loan amount in years \"))\n",
        "Simple_Interset=(P*t*r)\n",
        "print(\"The Simple Interest for the lended amount is\",Simple_Interset)"
      ],
      "metadata": {
        "colab": {
          "base_uri": "https://localhost:8080/"
        },
        "id": "pQiUaTyAwAa_",
        "outputId": "f28484cd-0688-4b75-def6-b2ae1d38e409"
      },
      "execution_count": null,
      "outputs": [
        {
          "output_type": "stream",
          "name": "stdout",
          "text": [
            "Enter the total lended loan amount25000\n",
            "Enter the rate of the interset percentage5\n",
            "Enter the time period of the loan amount in years 5\n",
            "The Simple Interest for the lended amount is 625000.0\n"
          ]
        }
      ]
    },
    {
      "cell_type": "code",
      "source": [
        "#Write a program to find the area and perimeter of a rectangle\n",
        "length=float(input(\"Enter the length of the rectangle\"))\n",
        "breadth=float(input(\"Enter the breadth of the rectangle\"))\n",
        "Area=length*breadth\n",
        "print(\"The area of gthe rectangle is \",Area)\n",
        "perimeter=((2*length)+(2*breadth))\n",
        "print(\"The perimeter  of the rectangle is\",perimeter)"
      ],
      "metadata": {
        "colab": {
          "base_uri": "https://localhost:8080/"
        },
        "id": "jOCNOLvAM4jV",
        "outputId": "eeeaccf4-f245-46d6-9b07-3ab868461f10"
      },
      "execution_count": null,
      "outputs": [
        {
          "output_type": "stream",
          "name": "stdout",
          "text": [
            "Enter the length of the rectangle2\n",
            "Enter the breadth of the rectangle2\n",
            "The area of gthe rectangle is  4.0\n",
            "The perimeter  of the rectangle is 8.0\n"
          ]
        }
      ]
    },
    {
      "cell_type": "code",
      "source": [
        "#Write a program to read the weight of an object in grams and display its weight in kilograms and grams\n",
        "W=float(input(\"Enter the Weight of an object\"))\n",
        "Wkg=W/1000\n",
        "Wg=W%1000\n",
        "print(\"Weight of the object=\",int(Wkg),\"kg and\",float(Wg),\"g\")\n",
        "\n",
        "\n"
      ],
      "metadata": {
        "id": "iri3SNAp20Yd",
        "colab": {
          "base_uri": "https://localhost:8080/"
        },
        "outputId": "0653d632-210a-402c-ee56-41f90d3eaae2"
      },
      "execution_count": null,
      "outputs": [
        {
          "output_type": "stream",
          "name": "stdout",
          "text": [
            "Enter the Weight of an object436676\n",
            "Weight of the object= 436 kg and 676.0 g\n"
          ]
        }
      ]
    },
    {
      "cell_type": "code",
      "source": [
        "#Write the program to find the speed  of a car in meter per second\n",
        "Distance=eval(input(\"Enter the distance travelled by the car in meters\"))\n",
        "Time=eval(input(\"Enter the time taken by the car to travel the distance in seconds\"))\n",
        "Speed=Distance/Time\n",
        "print(\"Speed of the car in meter per second is\",Speed)"
      ],
      "metadata": {
        "colab": {
          "base_uri": "https://localhost:8080/"
        },
        "id": "FBbAqUNkQzOB",
        "outputId": "574f8d3a-9ce4-48fb-e7dd-881102d251c0"
      },
      "execution_count": null,
      "outputs": [
        {
          "output_type": "stream",
          "name": "stdout",
          "text": [
            "Enter the distance travelled by the car in meters30\n",
            "Enter the time taken by the car to travel the distance in seconds2.3\n",
            "Speed of the car in meter per second is 13.043478260869566\n"
          ]
        }
      ]
    },
    {
      "cell_type": "code",
      "source": [
        "# Write a program to read a temperature from user and convert it from CELCIUS to FAHRENITE\n",
        "C=float(input(\"Enter the temperature in celcius\"))\n",
        "F=C*(9/5)+32\n",
        "print(\"The temperature in Fahrenheit\",F)\n"
      ],
      "metadata": {
        "colab": {
          "base_uri": "https://localhost:8080/"
        },
        "id": "klwC0BD8zSx3",
        "outputId": "1c07fba4-a46c-4de0-de48-d9d9d96c8ade"
      },
      "execution_count": null,
      "outputs": [
        {
          "output_type": "stream",
          "name": "stdout",
          "text": [
            "Enter the temperature in celcius35.66\n",
            "The temperature in Fahrenheit 96.188\n"
          ]
        }
      ]
    },
    {
      "cell_type": "code",
      "source": [
        "#Write a program to read a temperature from user and convert it from FAHRENITE to CELCIUS\n",
        "F=float(input(\"Enter the temperature in  Fahrenheit \"))\n",
        "C=(F-32)*(5/9)\n",
        "print(\"The temperature in CELCIUS\",C)"
      ],
      "metadata": {
        "colab": {
          "base_uri": "https://localhost:8080/"
        },
        "id": "YLIJBjz-zUHn",
        "outputId": "911049c4-22e2-4be0-80eb-6d13eba7061d"
      },
      "execution_count": null,
      "outputs": [
        {
          "output_type": "stream",
          "name": "stdout",
          "text": [
            "Enter the temperature in  Fahrenheit 25.665\n",
            "The temperature in CELCIUS -3.5194444444444453\n"
          ]
        }
      ]
    },
    {
      "cell_type": "code",
      "source": [
        "#write a program to find the diatnce between two points\n",
        "X1=float(input (\"Enter X1 coordinate\"))\n",
        "Y1=float(input (\"Enter Y1 coordinate\"))\n",
        "X2=float(input(\"enter X2 coordinate\"))\n",
        "Y2=float(input(\"Enter Y2 coordinate\"))\n",
        "Distance=(((X2-X1)**2)+((Y2-Y1)**2))**0.5\n",
        "print(\"The distance betwen the entered the points is\",Distance)"
      ],
      "metadata": {
        "colab": {
          "base_uri": "https://localhost:8080/"
        },
        "id": "zCYbATlT4TDO",
        "outputId": "075e6b9d-7db0-4bbf-a4eb-a2c5d2c5adf6"
      },
      "execution_count": null,
      "outputs": [
        {
          "output_type": "stream",
          "name": "stdout",
          "text": [
            "Enter X1 coordinate23\n",
            "Enter Y1 coordinate23\n",
            "enter X2 coordinate23\n",
            "Enter Y2 coordinate23\n",
            "The distance betwen the entered the points is 0.0\n"
          ]
        }
      ]
    },
    {
      "cell_type": "code",
      "source": [
        "N=eval(input(\"Enter the three digit number\"))\n",
        "a=N//100\n",
        "b=(N%100)//10\n",
        "c=N%10\n",
        "Sum=a+b+c\n",
        "print(\"The sum of the inputed three digit number is \",Sum)"
      ],
      "metadata": {
        "colab": {
          "base_uri": "https://localhost:8080/"
        },
        "id": "Q8GjQ0phL5wa",
        "outputId": "3aacac82-67f5-456a-bbed-1c4ecf95b2ae"
      },
      "execution_count": null,
      "outputs": [
        {
          "output_type": "stream",
          "name": "stdout",
          "text": [
            "Enter the three digit number211\n",
            "The sum of the inputed three digit number is  4\n"
          ]
        }
      ]
    },
    {
      "cell_type": "code",
      "source": [
        "#write a program to find the total amount drawn by a user in an ATM\n",
        "HUNDRED=eval(input(\"Enter the number of 100 rupees currency notes required\"))\n",
        "FIVE_HUNDRED=eval(input(\"Enter the number of 500 hundred rupees currency notes required\"))\n",
        "THOUSAND=eval(input(\"Enter the number of 1000 rupees currency notes required\"))\n",
        "Total_Amount=((HUNDRED*100)+(FIVE_HUNDRED*500)+(THOUSAND*1000))\n",
        "print(\"The total amount drawn by the User from the ATM is\",Total_Amount)\n"
      ],
      "metadata": {
        "colab": {
          "base_uri": "https://localhost:8080/"
        },
        "id": "xuADRtPjTvhq",
        "outputId": "0012d9c8-5a7c-42c8-f207-0e2083b0a4bf"
      },
      "execution_count": null,
      "outputs": [
        {
          "output_type": "stream",
          "name": "stdout",
          "text": [
            "Enter the number of 100 rupees currency notes required5\n",
            "Enter the number of 500 hundred rupees currency notes required2\n",
            "Enter the number of 1000 rupees currency notes required4\n",
            "The total amount drawn by the User from the ATM is 5500\n"
          ]
        }
      ]
    }
  ]
}